{
 "cells": [
  {
   "cell_type": "code",
   "execution_count": 39,
   "metadata": {},
   "outputs": [
    {
     "name": "stdout",
     "output_type": "stream",
     "text": [
      "<class 'pandas.core.frame.DataFrame'>\n",
      "RangeIndex: 300 entries, 0 to 299\n",
      "Data columns (total 4 columns):\n",
      " #   Column      Non-Null Count  Dtype \n",
      "---  ------      --------------  ----- \n",
      " 0   Unnamed: 0  300 non-null    int64 \n",
      " 1   상품명         300 non-null    object\n",
      " 2   스펙          300 non-null    object\n",
      " 3   가격          300 non-null    object\n",
      "dtypes: int64(1), object(3)\n",
      "memory usage: 9.5+ KB\n"
     ]
    },
    {
     "data": {
      "text/html": [
       "<div>\n",
       "<style scoped>\n",
       "    .dataframe tbody tr th:only-of-type {\n",
       "        vertical-align: middle;\n",
       "    }\n",
       "\n",
       "    .dataframe tbody tr th {\n",
       "        vertical-align: top;\n",
       "    }\n",
       "\n",
       "    .dataframe thead th {\n",
       "        text-align: right;\n",
       "    }\n",
       "</style>\n",
       "<table border=\"1\" class=\"dataframe\">\n",
       "  <thead>\n",
       "    <tr style=\"text-align: right;\">\n",
       "      <th></th>\n",
       "      <th>Unnamed: 0</th>\n",
       "      <th>상품명</th>\n",
       "      <th>스펙</th>\n",
       "      <th>가격</th>\n",
       "    </tr>\n",
       "  </thead>\n",
       "  <tbody>\n",
       "    <tr>\n",
       "      <th>0</th>\n",
       "      <td>0</td>\n",
       "      <td>MSI GF시리즈 GF65 Thin 9SEXR</td>\n",
       "      <td>39.62cm(15.6인치) / 인텔 / 코어i7-9세대 / 커피레이크-R / i7...</td>\n",
       "      <td>1345000</td>\n",
       "    </tr>\n",
       "    <tr>\n",
       "      <th>1</th>\n",
       "      <td>1</td>\n",
       "      <td>레노버 아이디어패드 Slim 5-15IIL Major i5</td>\n",
       "      <td>39.6cm(15.6인치) / 인텔 / 코어i5-10세대 / 아이스레이크 / i5-...</td>\n",
       "      <td>799000</td>\n",
       "    </tr>\n",
       "    <tr>\n",
       "      <th>2</th>\n",
       "      <td>2</td>\n",
       "      <td>LG전자 2020 울트라PC 15U50N-GR56K</td>\n",
       "      <td>39.6cm(15.6인치) / 인텔 / 코어i5-10세대 / 코멧레이크 / i5-1...</td>\n",
       "      <td>931000</td>\n",
       "    </tr>\n",
       "    <tr>\n",
       "      <th>3</th>\n",
       "      <td>3</td>\n",
       "      <td>APPLE 2019 맥북프로16 MVVK2KH/A</td>\n",
       "      <td>40.8cm(16인치) / 인텔 / 코어i9-9세대 / 커피레이크-R / i9-98...</td>\n",
       "      <td>2967000</td>\n",
       "    </tr>\n",
       "    <tr>\n",
       "      <th>4</th>\n",
       "      <td>4</td>\n",
       "      <td>레노버 아이디어패드 L340-15IRH i5 LEGEND</td>\n",
       "      <td>39.62cm(15.6인치) / 인텔 / 코어i5-9세대 / 커피레이크-R / i5...</td>\n",
       "      <td>675000</td>\n",
       "    </tr>\n",
       "  </tbody>\n",
       "</table>\n",
       "</div>"
      ],
      "text/plain": [
       "   Unnamed: 0                               상품명  \\\n",
       "0           0         MSI GF시리즈 GF65 Thin 9SEXR   \n",
       "1           1  레노버 아이디어패드 Slim 5-15IIL Major i5   \n",
       "2           2      LG전자 2020 울트라PC 15U50N-GR56K   \n",
       "3           3       APPLE 2019 맥북프로16 MVVK2KH/A   \n",
       "4           4   레노버 아이디어패드 L340-15IRH i5 LEGEND   \n",
       "\n",
       "                                                  스펙       가격  \n",
       "0  39.62cm(15.6인치) / 인텔 / 코어i7-9세대 / 커피레이크-R / i7...  1345000  \n",
       "1  39.6cm(15.6인치) / 인텔 / 코어i5-10세대 / 아이스레이크 / i5-...   799000  \n",
       "2  39.6cm(15.6인치) / 인텔 / 코어i5-10세대 / 코멧레이크 / i5-1...   931000  \n",
       "3  40.8cm(16인치) / 인텔 / 코어i9-9세대 / 커피레이크-R / i9-98...  2967000  \n",
       "4  39.62cm(15.6인치) / 인텔 / 코어i5-9세대 / 커피레이크-R / i5...   675000  "
      ]
     },
     "execution_count": 39,
     "metadata": {},
     "output_type": "execute_result"
    }
   ],
   "source": [
    "import pandas as pd\n",
    "df = pd.read_excel(\"C:\\\\Users\\\\KIM EUNKI\\\\Google 드라이브\\\\GitHub\\\\Practice\\\\Danawa_Crawling\\\\Danawa_notebook.xlsx\")\n",
    "df.info()\n",
    "df.head()"
   ]
  },
  {
   "cell_type": "markdown",
   "metadata": {},
   "source": [
    "데이터 전처리"
   ]
  },
  {
   "cell_type": "code",
   "execution_count": 40,
   "metadata": {},
   "outputs": [],
   "source": [
    "# 1열 없애기\n",
    "df.drop('Unnamed: 0', axis=1, inplace=True)"
   ]
  },
  {
   "cell_type": "code",
   "execution_count": 41,
   "metadata": {},
   "outputs": [
    {
     "name": "stdout",
     "output_type": "stream",
     "text": [
      "<class 'pandas.core.frame.DataFrame'>\n",
      "RangeIndex: 300 entries, 0 to 299\n",
      "Data columns (total 3 columns):\n",
      " #   Column  Non-Null Count  Dtype \n",
      "---  ------  --------------  ----- \n",
      " 0   상품명     300 non-null    object\n",
      " 1   스펙      300 non-null    object\n",
      " 2   가격      300 non-null    object\n",
      "dtypes: object(3)\n",
      "memory usage: 7.2+ KB\n"
     ]
    },
    {
     "data": {
      "text/html": [
       "<div>\n",
       "<style scoped>\n",
       "    .dataframe tbody tr th:only-of-type {\n",
       "        vertical-align: middle;\n",
       "    }\n",
       "\n",
       "    .dataframe tbody tr th {\n",
       "        vertical-align: top;\n",
       "    }\n",
       "\n",
       "    .dataframe thead th {\n",
       "        text-align: right;\n",
       "    }\n",
       "</style>\n",
       "<table border=\"1\" class=\"dataframe\">\n",
       "  <thead>\n",
       "    <tr style=\"text-align: right;\">\n",
       "      <th></th>\n",
       "      <th>상품명</th>\n",
       "      <th>스펙</th>\n",
       "      <th>가격</th>\n",
       "    </tr>\n",
       "  </thead>\n",
       "  <tbody>\n",
       "    <tr>\n",
       "      <th>0</th>\n",
       "      <td>MSI GF시리즈 GF65 Thin 9SEXR</td>\n",
       "      <td>39.62cm(15.6인치) / 인텔 / 코어i7-9세대 / 커피레이크-R / i7...</td>\n",
       "      <td>1345000</td>\n",
       "    </tr>\n",
       "    <tr>\n",
       "      <th>1</th>\n",
       "      <td>레노버 아이디어패드 Slim 5-15IIL Major i5</td>\n",
       "      <td>39.6cm(15.6인치) / 인텔 / 코어i5-10세대 / 아이스레이크 / i5-...</td>\n",
       "      <td>799000</td>\n",
       "    </tr>\n",
       "    <tr>\n",
       "      <th>2</th>\n",
       "      <td>LG전자 2020 울트라PC 15U50N-GR56K</td>\n",
       "      <td>39.6cm(15.6인치) / 인텔 / 코어i5-10세대 / 코멧레이크 / i5-1...</td>\n",
       "      <td>931000</td>\n",
       "    </tr>\n",
       "    <tr>\n",
       "      <th>3</th>\n",
       "      <td>APPLE 2019 맥북프로16 MVVK2KH/A</td>\n",
       "      <td>40.8cm(16인치) / 인텔 / 코어i9-9세대 / 커피레이크-R / i9-98...</td>\n",
       "      <td>2967000</td>\n",
       "    </tr>\n",
       "    <tr>\n",
       "      <th>4</th>\n",
       "      <td>레노버 아이디어패드 L340-15IRH i5 LEGEND</td>\n",
       "      <td>39.62cm(15.6인치) / 인텔 / 코어i5-9세대 / 커피레이크-R / i5...</td>\n",
       "      <td>675000</td>\n",
       "    </tr>\n",
       "  </tbody>\n",
       "</table>\n",
       "</div>"
      ],
      "text/plain": [
       "                                상품명  \\\n",
       "0         MSI GF시리즈 GF65 Thin 9SEXR   \n",
       "1  레노버 아이디어패드 Slim 5-15IIL Major i5   \n",
       "2      LG전자 2020 울트라PC 15U50N-GR56K   \n",
       "3       APPLE 2019 맥북프로16 MVVK2KH/A   \n",
       "4   레노버 아이디어패드 L340-15IRH i5 LEGEND   \n",
       "\n",
       "                                                  스펙       가격  \n",
       "0  39.62cm(15.6인치) / 인텔 / 코어i7-9세대 / 커피레이크-R / i7...  1345000  \n",
       "1  39.6cm(15.6인치) / 인텔 / 코어i5-10세대 / 아이스레이크 / i5-...   799000  \n",
       "2  39.6cm(15.6인치) / 인텔 / 코어i5-10세대 / 코멧레이크 / i5-1...   931000  \n",
       "3  40.8cm(16인치) / 인텔 / 코어i9-9세대 / 커피레이크-R / i9-98...  2967000  \n",
       "4  39.62cm(15.6인치) / 인텔 / 코어i5-9세대 / 커피레이크-R / i5...   675000  "
      ]
     },
     "execution_count": 41,
     "metadata": {},
     "output_type": "execute_result"
    }
   ],
   "source": [
    "df.info()\n",
    "df.head()"
   ]
  },
  {
   "cell_type": "code",
   "execution_count": 42,
   "metadata": {},
   "outputs": [],
   "source": [
    "# 회사명과 상품명 분리하기"
   ]
  },
  {
   "cell_type": "code",
   "execution_count": 43,
   "metadata": {},
   "outputs": [
    {
     "data": {
      "text/plain": [
       "0               MSI GF시리즈 GF65 Thin 9SEXR\n",
       "1        레노버 아이디어패드 Slim 5-15IIL Major i5\n",
       "2            LG전자 2020 울트라PC 15U50N-GR56K\n",
       "3             APPLE 2019 맥북프로16 MVVK2KH/A\n",
       "4         레노버 아이디어패드 L340-15IRH i5 LEGEND\n",
       "5    레노버 LEGION Y540-15IRH i5 Edition PRO\n",
       "6               ASUS 비보북 S15 S533FL-BQ504\n",
       "7              삼성전자 갤럭시북 이온 NT950XCR-G58A\n",
       "8          삼성전자 갤럭시북 플렉스 알파 NT750QCR-A38A\n",
       "9             APPLE 2019 맥북프로16 MVVJ2KH/A\n",
       "Name: 상품명, dtype: object"
      ]
     },
     "execution_count": 43,
     "metadata": {},
     "output_type": "execute_result"
    }
   ],
   "source": [
    "df['상품명'][:10]"
   ]
  },
  {
   "cell_type": "code",
   "execution_count": 44,
   "metadata": {},
   "outputs": [
    {
     "name": "stdout",
     "output_type": "stream",
     "text": [
      "['MSI', 'GF시리즈 GF65 Thin 9SEXR']\n"
     ]
    }
   ],
   "source": [
    "title = \"MSI GF시리즈 GF65 Thin 9SEXR\"\n",
    "info = title.split(' ', 1)\n",
    "print(info) #이런 식으로 나누면 됨"
   ]
  },
  {
   "cell_type": "code",
   "execution_count": 45,
   "metadata": {},
   "outputs": [],
   "source": [
    "company_list = []\n",
    "product_list = []\n",
    "\n",
    "for title in df['상품명']:\n",
    "    title_info = title.split(' ', 1) # 1번째 공백을 기준으로 나눔.\n",
    "    company_name = title_info[0]\n",
    "    product_name = title_info[1]\n",
    "    company_list.append(company_name)\n",
    "    product_list.append(product_name)"
   ]
  },
  {
   "cell_type": "code",
   "execution_count": 46,
   "metadata": {},
   "outputs": [
    {
     "name": "stdout",
     "output_type": "stream",
     "text": [
      "['MSI', '레노버', 'LG전자', 'APPLE', '레노버']\n",
      "['GF시리즈 GF65 Thin 9SEXR', '아이디어패드 Slim 5-15IIL Major i5', '2020 울트라PC 15U50N-GR56K', '2019 맥북프로16 MVVK2KH/A', '아이디어패드 L340-15IRH i5 LEGEND']\n"
     ]
    }
   ],
   "source": [
    "print(company_list[:5])\n",
    "print(product_list[:5])#잘 분류되었음을 확인."
   ]
  },
  {
   "cell_type": "markdown",
   "metadata": {},
   "source": [
    "스펙 정보 정리하기"
   ]
  },
  {
   "cell_type": "code",
   "execution_count": 47,
   "metadata": {},
   "outputs": [
    {
     "data": {
      "text/plain": [
       "'39.62cm(15.6인치) / 인텔 / 코어i7-9세대 / 커피레이크-R / i7-9750H 2.6GHz(4.5GHz) / 헥사코어 / 1920x1080(FHD) / 300nit / 144Hz / 광시야각(IPS) / 눈부심방지 / 슈퍼브라이트 / 슬림형 베젤 / DDR4 / 8GB / M.2(NVMe) / 512GB / RTX2060 / VRAM:6GB / 1Gbps 유선랜 / 802.11n/ac 무선 / 블루투스 5.0 / HDMI / 웹캠(HD) / USB Type-C / USB 3.0 / 키보드 라이트 / 51Wh / 운영체제 미포함 / 두께: 21.7mm / 1.86kg / 일반유통상품 / 용도: 게임용, 그래픽작업용 / 색상 : 블랙'"
      ]
     },
     "execution_count": 47,
     "metadata": {},
     "output_type": "execute_result"
    }
   ],
   "source": [
    "df['스펙'][0]"
   ]
  },
  {
   "cell_type": "code",
   "execution_count": 48,
   "metadata": {},
   "outputs": [
    {
     "name": "stdout",
     "output_type": "stream",
     "text": [
      "['39.62cm(15.6인치)', '인텔', '코어i7-9세대', '커피레이크-R', 'i7-9750H 2.6GHz(4.5GHz)', '헥사코어', '1920x1080(FHD)', '300nit', '144Hz', '광시야각(IPS)', '눈부심방지', '슈퍼브라이트', '슬림형 베젤', 'DDR4', '8GB', 'M.2(NVMe)', '512GB', 'RTX2060', 'VRAM:6GB', '1Gbps 유선랜', '802.11n/ac 무선', '블루투스 5.0', 'HDMI', '웹캠(HD)', 'USB Type-C', 'USB 3.0', '키보드 라이트', '51Wh', '운영체제 미포함', '두께: 21.7mm', '1.86kg', '일반유통상품', '용도: 게임용, 그래픽작업용', '색상 : 블랙']\n"
     ]
    }
   ],
   "source": [
    "print(df['스펙'][0].split(' / '))"
   ]
  },
  {
   "cell_type": "code",
   "execution_count": 49,
   "metadata": {},
   "outputs": [],
   "source": [
    "spec_list = df['스펙'][0].split(' / ') #split 함수로 슬래시와 공백을 빼고 spec_list 변수에 저장"
   ]
  },
  {
   "cell_type": "code",
   "execution_count": 50,
   "metadata": {},
   "outputs": [
    {
     "data": {
      "text/plain": [
       "'39.62cm(15.6인치)'"
      ]
     },
     "execution_count": 50,
     "metadata": {},
     "output_type": "execute_result"
    }
   ],
   "source": [
    "#필요한 정보만 추출하겠다. 예를 들면, [화면크기, 노트북 색상, 무게, 용도]\n",
    "#화면크기의 경우 : 항상 첫번째 스펙임\n",
    "\n",
    "screen_size = spec_list[0] #화면크기 정보 추출하여 변수 지정\n",
    "screen_size"
   ]
  },
  {
   "cell_type": "code",
   "execution_count": 51,
   "metadata": {},
   "outputs": [
    {
     "name": "stdout",
     "output_type": "stream",
     "text": [
      "색상 : 블랙\n",
      "1.86kg\n",
      "용도: 게임용, 그래픽작업용\n"
     ]
    }
   ],
   "source": [
    "#노트북 생상의 경우 '색상' 명시, 무게는 'kg', 사용용도는 '용도'\n",
    "for spec in spec_list:\n",
    "    if '색상' in spec:\n",
    "        notebook_color = spec\n",
    "    elif 'kg' in spec:\n",
    "        notebook_weight = spec\n",
    "    elif '용도' in spec:\n",
    "        notebook_purpose = spec\n",
    "    \n",
    "print(notebook_color)\n",
    "print(notebook_weight)\n",
    "print(notebook_purpose)"
   ]
  },
  {
   "cell_type": "code",
   "execution_count": 52,
   "metadata": {},
   "outputs": [
    {
     "name": "stdout",
     "output_type": "stream",
     "text": [
      "블랙\n",
      "게임용, 그래픽작업용\n"
     ]
    }
   ],
   "source": [
    "#색상과 용도의 내용을 정리\n",
    "\n",
    "notebook_color = notebook_color.split(':')[1].strip()\n",
    "notebook_purpose = notebook_purpose.split(':')[1].strip()\n",
    "\n",
    "print(notebook_color)\n",
    "print(notebook_purpose)"
   ]
  },
  {
   "cell_type": "code",
   "execution_count": 53,
   "metadata": {},
   "outputs": [],
   "source": [
    "#반복문을 통해 데이터프레임의 화면크기, 색상, 무게, 사용 용도를 추출"
   ]
  },
  {
   "cell_type": "code",
   "execution_count": 54,
   "metadata": {},
   "outputs": [],
   "source": [
    "size_list = []\n",
    "color_list = []\n",
    "weight_list = []\n",
    "purpose_list = []\n",
    "\n",
    "for spec_data in df['스펙']:\n",
    "    spec_list = spec_data.split(' / ')\n",
    "    \n",
    "# 색상 추출하기\n",
    "    screen_size = spec_list[0] #spec_list 중 첫번째인 화면크기들만 추출\n",
    "    size_list.append(screen_size)\n",
    "    \n",
    "# 색상, 무게, 용도 정보가 없는 상품을 위해 변수 생성\n",
    "    notebook_color = None\n",
    "    notebook_weight = None\n",
    "    notebook_purpose = None    \n",
    "    \n",
    "# spec_list의 각 원소에서 색상, 무게, 용도 정보 추출    \n",
    "    for spec in spec_list:\n",
    "        if '색상' in spec:\n",
    "            notebook_color = spec.split(':')[1].strip()\n",
    "        if 'kg' in spec:\n",
    "            notebook_weight = spec\n",
    "        if '용도' in spec:\n",
    "            notebook_purpose = spec.split(':')[1].strip()         \n",
    "    color_list.append(notebook_color)\n",
    "    weight_list.append(notebook_weight)\n",
    "    purpose_list.append(notebook_purpose)  "
   ]
  },
  {
   "cell_type": "code",
   "execution_count": 55,
   "metadata": {},
   "outputs": [
    {
     "name": "stdout",
     "output_type": "stream",
     "text": [
      "화면크기 300 ['39.62cm(15.6인치)', '39.6cm(15.6인치)', '39.6cm(15.6인치)', '40.8cm(16인치)', '39.62cm(15.6인치)']\n",
      "색상 300 ['블랙', '그레이', '화이트', '그레이', '블랙']\n",
      "무게 300 ['1.86kg', '1.69kg', '1.75kg', '2.0kg', '2.2kg']\n",
      "사용용도 300 ['게임용, 그래픽작업용', '그래픽작업용, 사무/인강용', '사무/인강용', '그래픽작업용', '게임용, 그래픽작업용']\n"
     ]
    }
   ],
   "source": [
    "print(\"화면크기\", len(size_list), size_list[0:5])\n",
    "print(\"색상\", len(color_list), color_list[0:5])\n",
    "print(\"무게\", len(weight_list), weight_list[0:5])\n",
    "print(\"사용용도\", len(purpose_list), purpose_list[0:5])\n",
    "#잘 완료 되었음을 알 수 있음."
   ]
  },
  {
   "cell_type": "code",
   "execution_count": 56,
   "metadata": {},
   "outputs": [],
   "source": [
    "# 전처리한 데이터들을 new_df 변수에 저장하여 새로운 데이터프레임 만들기\n",
    "new_df = pd.DataFrame()\n",
    "new_df['제조사'] = company_list\n",
    "new_df['제품명'] = product_list\n",
    "new_df['화면크기'] = size_list\n",
    "new_df['색상'] = color_list\n",
    "new_df['무게'] = weight_list\n",
    "new_df['사용용도'] = purpose_list"
   ]
  },
  {
   "cell_type": "code",
   "execution_count": 57,
   "metadata": {},
   "outputs": [
    {
     "name": "stdout",
     "output_type": "stream",
     "text": [
      "<class 'pandas.core.frame.DataFrame'>\n",
      "RangeIndex: 300 entries, 0 to 299\n",
      "Data columns (total 6 columns):\n",
      " #   Column  Non-Null Count  Dtype \n",
      "---  ------  --------------  ----- \n",
      " 0   제조사     300 non-null    object\n",
      " 1   제품명     300 non-null    object\n",
      " 2   화면크기    300 non-null    object\n",
      " 3   색상      279 non-null    object\n",
      " 4   무게      287 non-null    object\n",
      " 5   사용용도    300 non-null    object\n",
      "dtypes: object(6)\n",
      "memory usage: 14.2+ KB\n"
     ]
    },
    {
     "data": {
      "text/html": [
       "<div>\n",
       "<style scoped>\n",
       "    .dataframe tbody tr th:only-of-type {\n",
       "        vertical-align: middle;\n",
       "    }\n",
       "\n",
       "    .dataframe tbody tr th {\n",
       "        vertical-align: top;\n",
       "    }\n",
       "\n",
       "    .dataframe thead th {\n",
       "        text-align: right;\n",
       "    }\n",
       "</style>\n",
       "<table border=\"1\" class=\"dataframe\">\n",
       "  <thead>\n",
       "    <tr style=\"text-align: right;\">\n",
       "      <th></th>\n",
       "      <th>제조사</th>\n",
       "      <th>제품명</th>\n",
       "      <th>화면크기</th>\n",
       "      <th>색상</th>\n",
       "      <th>무게</th>\n",
       "      <th>사용용도</th>\n",
       "    </tr>\n",
       "  </thead>\n",
       "  <tbody>\n",
       "    <tr>\n",
       "      <th>0</th>\n",
       "      <td>MSI</td>\n",
       "      <td>GF시리즈 GF65 Thin 9SEXR</td>\n",
       "      <td>39.62cm(15.6인치)</td>\n",
       "      <td>블랙</td>\n",
       "      <td>1.86kg</td>\n",
       "      <td>게임용, 그래픽작업용</td>\n",
       "    </tr>\n",
       "    <tr>\n",
       "      <th>1</th>\n",
       "      <td>레노버</td>\n",
       "      <td>아이디어패드 Slim 5-15IIL Major i5</td>\n",
       "      <td>39.6cm(15.6인치)</td>\n",
       "      <td>그레이</td>\n",
       "      <td>1.69kg</td>\n",
       "      <td>그래픽작업용, 사무/인강용</td>\n",
       "    </tr>\n",
       "    <tr>\n",
       "      <th>2</th>\n",
       "      <td>LG전자</td>\n",
       "      <td>2020 울트라PC 15U50N-GR56K</td>\n",
       "      <td>39.6cm(15.6인치)</td>\n",
       "      <td>화이트</td>\n",
       "      <td>1.75kg</td>\n",
       "      <td>사무/인강용</td>\n",
       "    </tr>\n",
       "    <tr>\n",
       "      <th>3</th>\n",
       "      <td>APPLE</td>\n",
       "      <td>2019 맥북프로16 MVVK2KH/A</td>\n",
       "      <td>40.8cm(16인치)</td>\n",
       "      <td>그레이</td>\n",
       "      <td>2.0kg</td>\n",
       "      <td>그래픽작업용</td>\n",
       "    </tr>\n",
       "    <tr>\n",
       "      <th>4</th>\n",
       "      <td>레노버</td>\n",
       "      <td>아이디어패드 L340-15IRH i5 LEGEND</td>\n",
       "      <td>39.62cm(15.6인치)</td>\n",
       "      <td>블랙</td>\n",
       "      <td>2.2kg</td>\n",
       "      <td>게임용, 그래픽작업용</td>\n",
       "    </tr>\n",
       "  </tbody>\n",
       "</table>\n",
       "</div>"
      ],
      "text/plain": [
       "     제조사                           제품명             화면크기   색상      무게  \\\n",
       "0    MSI         GF시리즈 GF65 Thin 9SEXR  39.62cm(15.6인치)   블랙  1.86kg   \n",
       "1    레노버  아이디어패드 Slim 5-15IIL Major i5   39.6cm(15.6인치)  그레이  1.69kg   \n",
       "2   LG전자       2020 울트라PC 15U50N-GR56K   39.6cm(15.6인치)  화이트  1.75kg   \n",
       "3  APPLE         2019 맥북프로16 MVVK2KH/A     40.8cm(16인치)  그레이   2.0kg   \n",
       "4    레노버   아이디어패드 L340-15IRH i5 LEGEND  39.62cm(15.6인치)   블랙   2.2kg   \n",
       "\n",
       "             사용용도  \n",
       "0     게임용, 그래픽작업용  \n",
       "1  그래픽작업용, 사무/인강용  \n",
       "2          사무/인강용  \n",
       "3          그래픽작업용  \n",
       "4     게임용, 그래픽작업용  "
      ]
     },
     "execution_count": 57,
     "metadata": {},
     "output_type": "execute_result"
    }
   ],
   "source": [
    "new_df.info()\n",
    "new_df.head()"
   ]
  },
  {
   "cell_type": "markdown",
   "metadata": {},
   "source": [
    "기존 데이터프레임에서 가격정보 추가하기"
   ]
  },
  {
   "cell_type": "code",
   "execution_count": 58,
   "metadata": {},
   "outputs": [],
   "source": [
    "new_df['가격'] = df['가격']"
   ]
  },
  {
   "cell_type": "code",
   "execution_count": 59,
   "metadata": {},
   "outputs": [
    {
     "name": "stdout",
     "output_type": "stream",
     "text": [
      "<class 'pandas.core.frame.DataFrame'>\n",
      "RangeIndex: 300 entries, 0 to 299\n",
      "Data columns (total 7 columns):\n",
      " #   Column  Non-Null Count  Dtype \n",
      "---  ------  --------------  ----- \n",
      " 0   제조사     300 non-null    object\n",
      " 1   제품명     300 non-null    object\n",
      " 2   화면크기    300 non-null    object\n",
      " 3   색상      279 non-null    object\n",
      " 4   무게      287 non-null    object\n",
      " 5   사용용도    300 non-null    object\n",
      " 6   가격      300 non-null    object\n",
      "dtypes: object(7)\n",
      "memory usage: 16.5+ KB\n"
     ]
    }
   ],
   "source": [
    "import pandas as pd\n",
    "new_df.info()\n",
    "new_df.to_excel(\"C:\\\\Users\\\\KIM EUNKI\\\\Google 드라이브\\\\GitHub\\\\Practice\\\\Danawa_Crawling\\\\New_Danawa_notebook.xlsx\")"
   ]
  },
  {
   "cell_type": "code",
   "execution_count": 60,
   "metadata": {},
   "outputs": [
    {
     "data": {
      "text/html": [
       "<div>\n",
       "<style scoped>\n",
       "    .dataframe tbody tr th:only-of-type {\n",
       "        vertical-align: middle;\n",
       "    }\n",
       "\n",
       "    .dataframe tbody tr th {\n",
       "        vertical-align: top;\n",
       "    }\n",
       "\n",
       "    .dataframe thead th {\n",
       "        text-align: right;\n",
       "    }\n",
       "</style>\n",
       "<table border=\"1\" class=\"dataframe\">\n",
       "  <thead>\n",
       "    <tr style=\"text-align: right;\">\n",
       "      <th></th>\n",
       "      <th>제조사</th>\n",
       "      <th>제품명</th>\n",
       "      <th>화면크기</th>\n",
       "      <th>색상</th>\n",
       "      <th>무게</th>\n",
       "      <th>사용용도</th>\n",
       "      <th>가격</th>\n",
       "    </tr>\n",
       "  </thead>\n",
       "  <tbody>\n",
       "    <tr>\n",
       "      <th>0</th>\n",
       "      <td>MSI</td>\n",
       "      <td>GF시리즈 GF65 Thin 9SEXR</td>\n",
       "      <td>39.62cm(15.6인치)</td>\n",
       "      <td>블랙</td>\n",
       "      <td>1.86kg</td>\n",
       "      <td>게임용, 그래픽작업용</td>\n",
       "      <td>1345000</td>\n",
       "    </tr>\n",
       "    <tr>\n",
       "      <th>1</th>\n",
       "      <td>레노버</td>\n",
       "      <td>아이디어패드 Slim 5-15IIL Major i5</td>\n",
       "      <td>39.6cm(15.6인치)</td>\n",
       "      <td>그레이</td>\n",
       "      <td>1.69kg</td>\n",
       "      <td>그래픽작업용, 사무/인강용</td>\n",
       "      <td>799000</td>\n",
       "    </tr>\n",
       "    <tr>\n",
       "      <th>2</th>\n",
       "      <td>LG전자</td>\n",
       "      <td>2020 울트라PC 15U50N-GR56K</td>\n",
       "      <td>39.6cm(15.6인치)</td>\n",
       "      <td>화이트</td>\n",
       "      <td>1.75kg</td>\n",
       "      <td>사무/인강용</td>\n",
       "      <td>931000</td>\n",
       "    </tr>\n",
       "    <tr>\n",
       "      <th>3</th>\n",
       "      <td>APPLE</td>\n",
       "      <td>2019 맥북프로16 MVVK2KH/A</td>\n",
       "      <td>40.8cm(16인치)</td>\n",
       "      <td>그레이</td>\n",
       "      <td>2.0kg</td>\n",
       "      <td>그래픽작업용</td>\n",
       "      <td>2967000</td>\n",
       "    </tr>\n",
       "    <tr>\n",
       "      <th>4</th>\n",
       "      <td>레노버</td>\n",
       "      <td>아이디어패드 L340-15IRH i5 LEGEND</td>\n",
       "      <td>39.62cm(15.6인치)</td>\n",
       "      <td>블랙</td>\n",
       "      <td>2.2kg</td>\n",
       "      <td>게임용, 그래픽작업용</td>\n",
       "      <td>675000</td>\n",
       "    </tr>\n",
       "  </tbody>\n",
       "</table>\n",
       "</div>"
      ],
      "text/plain": [
       "     제조사                           제품명             화면크기   색상      무게  \\\n",
       "0    MSI         GF시리즈 GF65 Thin 9SEXR  39.62cm(15.6인치)   블랙  1.86kg   \n",
       "1    레노버  아이디어패드 Slim 5-15IIL Major i5   39.6cm(15.6인치)  그레이  1.69kg   \n",
       "2   LG전자       2020 울트라PC 15U50N-GR56K   39.6cm(15.6인치)  화이트  1.75kg   \n",
       "3  APPLE         2019 맥북프로16 MVVK2KH/A     40.8cm(16인치)  그레이   2.0kg   \n",
       "4    레노버   아이디어패드 L340-15IRH i5 LEGEND  39.62cm(15.6인치)   블랙   2.2kg   \n",
       "\n",
       "             사용용도       가격  \n",
       "0     게임용, 그래픽작업용  1345000  \n",
       "1  그래픽작업용, 사무/인강용   799000  \n",
       "2          사무/인강용   931000  \n",
       "3          그래픽작업용  2967000  \n",
       "4     게임용, 그래픽작업용   675000  "
      ]
     },
     "execution_count": 60,
     "metadata": {},
     "output_type": "execute_result"
    }
   ],
   "source": [
    "new_df.head()"
   ]
  },
  {
   "cell_type": "code",
   "execution_count": 61,
   "metadata": {},
   "outputs": [
    {
     "data": {
      "text/plain": [
       "제조사      0\n",
       "제품명      0\n",
       "화면크기     0\n",
       "색상      21\n",
       "무게      13\n",
       "사용용도     0\n",
       "가격       0\n",
       "dtype: int64"
      ]
     },
     "execution_count": 61,
     "metadata": {},
     "output_type": "execute_result"
    }
   ],
   "source": [
    "new_df.isna().sum() #색상과 무게 정보가 없는 데이터 발견"
   ]
  },
  {
   "cell_type": "code",
   "execution_count": 62,
   "metadata": {},
   "outputs": [
    {
     "data": {
      "text/plain": [
       "제조사     0\n",
       "제품명     0\n",
       "화면크기    0\n",
       "색상      0\n",
       "무게      0\n",
       "사용용도    0\n",
       "가격      0\n",
       "dtype: int64"
      ]
     },
     "execution_count": 62,
     "metadata": {},
     "output_type": "execute_result"
    }
   ],
   "source": [
    "new_df.dropna(axis = 0, inplace=True) #결측치 행 제거.\n",
    "new_df.isna().sum()"
   ]
  },
  {
   "cell_type": "code",
   "execution_count": 63,
   "metadata": {},
   "outputs": [
    {
     "name": "stdout",
     "output_type": "stream",
     "text": [
      "<class 'pandas.core.frame.DataFrame'>\n",
      "Int64Index: 269 entries, 0 to 299\n",
      "Data columns (total 7 columns):\n",
      " #   Column  Non-Null Count  Dtype \n",
      "---  ------  --------------  ----- \n",
      " 0   제조사     269 non-null    object\n",
      " 1   제품명     269 non-null    object\n",
      " 2   화면크기    269 non-null    object\n",
      " 3   색상      269 non-null    object\n",
      " 4   무게      269 non-null    object\n",
      " 5   사용용도    269 non-null    object\n",
      " 6   가격      269 non-null    object\n",
      "dtypes: object(7)\n",
      "memory usage: 16.8+ KB\n"
     ]
    }
   ],
   "source": [
    "new_df.info() #결측치 제거 후 269개의 데이터."
   ]
  },
  {
   "cell_type": "code",
   "execution_count": 64,
   "metadata": {},
   "outputs": [],
   "source": [
    "#각 제조사별 노트북의 평균가격\n",
    "#우선 가격을 정수로 변환하겠다. 가격정보 중 '단종, 일시품절' 데이터가 있어 삭제하겠다.\n",
    "\n",
    "mask = new_df['가격'].isin(['단종', '일시품절']) # 가격 항목 중 '단종'과 '일시품절' 항목을 발견.\n",
    "new_df = new_df[~mask] #'단종', '일시품절' 항목을 제거하고 데이터프레임에 저장."
   ]
  },
  {
   "cell_type": "code",
   "execution_count": 66,
   "metadata": {},
   "outputs": [
    {
     "data": {
      "text/html": [
       "<div>\n",
       "<style scoped>\n",
       "    .dataframe tbody tr th:only-of-type {\n",
       "        vertical-align: middle;\n",
       "    }\n",
       "\n",
       "    .dataframe tbody tr th {\n",
       "        vertical-align: top;\n",
       "    }\n",
       "\n",
       "    .dataframe thead th {\n",
       "        text-align: right;\n",
       "    }\n",
       "</style>\n",
       "<table border=\"1\" class=\"dataframe\">\n",
       "  <thead>\n",
       "    <tr style=\"text-align: right;\">\n",
       "      <th></th>\n",
       "      <th>제조사</th>\n",
       "      <th>제품명</th>\n",
       "      <th>화면크기</th>\n",
       "      <th>색상</th>\n",
       "      <th>무게</th>\n",
       "      <th>사용용도</th>\n",
       "      <th>가격</th>\n",
       "    </tr>\n",
       "  </thead>\n",
       "  <tbody>\n",
       "    <tr>\n",
       "      <th>0</th>\n",
       "      <td>MSI</td>\n",
       "      <td>GF시리즈 GF65 Thin 9SEXR</td>\n",
       "      <td>39.62cm(15.6인치)</td>\n",
       "      <td>블랙</td>\n",
       "      <td>1.86kg</td>\n",
       "      <td>게임용, 그래픽작업용</td>\n",
       "      <td>1345000</td>\n",
       "    </tr>\n",
       "    <tr>\n",
       "      <th>1</th>\n",
       "      <td>레노버</td>\n",
       "      <td>아이디어패드 Slim 5-15IIL Major i5</td>\n",
       "      <td>39.6cm(15.6인치)</td>\n",
       "      <td>그레이</td>\n",
       "      <td>1.69kg</td>\n",
       "      <td>그래픽작업용, 사무/인강용</td>\n",
       "      <td>799000</td>\n",
       "    </tr>\n",
       "    <tr>\n",
       "      <th>2</th>\n",
       "      <td>LG전자</td>\n",
       "      <td>2020 울트라PC 15U50N-GR56K</td>\n",
       "      <td>39.6cm(15.6인치)</td>\n",
       "      <td>화이트</td>\n",
       "      <td>1.75kg</td>\n",
       "      <td>사무/인강용</td>\n",
       "      <td>931000</td>\n",
       "    </tr>\n",
       "    <tr>\n",
       "      <th>3</th>\n",
       "      <td>APPLE</td>\n",
       "      <td>2019 맥북프로16 MVVK2KH/A</td>\n",
       "      <td>40.8cm(16인치)</td>\n",
       "      <td>그레이</td>\n",
       "      <td>2.0kg</td>\n",
       "      <td>그래픽작업용</td>\n",
       "      <td>2967000</td>\n",
       "    </tr>\n",
       "    <tr>\n",
       "      <th>4</th>\n",
       "      <td>레노버</td>\n",
       "      <td>아이디어패드 L340-15IRH i5 LEGEND</td>\n",
       "      <td>39.62cm(15.6인치)</td>\n",
       "      <td>블랙</td>\n",
       "      <td>2.2kg</td>\n",
       "      <td>게임용, 그래픽작업용</td>\n",
       "      <td>675000</td>\n",
       "    </tr>\n",
       "    <tr>\n",
       "      <th>...</th>\n",
       "      <td>...</td>\n",
       "      <td>...</td>\n",
       "      <td>...</td>\n",
       "      <td>...</td>\n",
       "      <td>...</td>\n",
       "      <td>...</td>\n",
       "      <td>...</td>\n",
       "    </tr>\n",
       "    <tr>\n",
       "      <th>295</th>\n",
       "      <td>GIGABYTE</td>\n",
       "      <td>AORUS 15G KB i7</td>\n",
       "      <td>39.6cm(15.6인치)</td>\n",
       "      <td>다크그레이</td>\n",
       "      <td>2.19kg</td>\n",
       "      <td>게임용, 그래픽작업용</td>\n",
       "      <td>2385000</td>\n",
       "    </tr>\n",
       "    <tr>\n",
       "      <th>296</th>\n",
       "      <td>GIGABYTE</td>\n",
       "      <td>AORUS 17X YB i7</td>\n",
       "      <td>43.9cm(17.3인치)</td>\n",
       "      <td>블랙</td>\n",
       "      <td>3.75kg</td>\n",
       "      <td>게임용, 그래픽작업용</td>\n",
       "      <td>3864000</td>\n",
       "    </tr>\n",
       "    <tr>\n",
       "      <th>297</th>\n",
       "      <td>LG전자</td>\n",
       "      <td>2020 그램15 15ZD90N-VX70K</td>\n",
       "      <td>39.6cm(15.6인치)</td>\n",
       "      <td>화이트</td>\n",
       "      <td>1.12kg</td>\n",
       "      <td>사무/인강용, 휴대용</td>\n",
       "      <td>1627000</td>\n",
       "    </tr>\n",
       "    <tr>\n",
       "      <th>298</th>\n",
       "      <td>레노버</td>\n",
       "      <td>Yoga C940-14IIL i5 Gaia</td>\n",
       "      <td>35.5cm(14인치)</td>\n",
       "      <td>골드, 그레이</td>\n",
       "      <td>1.35kg</td>\n",
       "      <td>사무/인강용, 휴대용</td>\n",
       "      <td>1935000</td>\n",
       "    </tr>\n",
       "    <tr>\n",
       "      <th>299</th>\n",
       "      <td>MSI</td>\n",
       "      <td>GF시리즈 GF75 Thin 9SC-I7 파워팩 프로</td>\n",
       "      <td>43.94cm(17.3인치)</td>\n",
       "      <td>블랙</td>\n",
       "      <td>2.2kg</td>\n",
       "      <td>게임용, 그래픽작업용</td>\n",
       "      <td>1154000</td>\n",
       "    </tr>\n",
       "  </tbody>\n",
       "</table>\n",
       "<p>267 rows × 7 columns</p>\n",
       "</div>"
      ],
      "text/plain": [
       "          제조사                            제품명             화면크기       색상  \\\n",
       "0         MSI          GF시리즈 GF65 Thin 9SEXR  39.62cm(15.6인치)       블랙   \n",
       "1         레노버   아이디어패드 Slim 5-15IIL Major i5   39.6cm(15.6인치)      그레이   \n",
       "2        LG전자        2020 울트라PC 15U50N-GR56K   39.6cm(15.6인치)      화이트   \n",
       "3       APPLE          2019 맥북프로16 MVVK2KH/A     40.8cm(16인치)      그레이   \n",
       "4         레노버    아이디어패드 L340-15IRH i5 LEGEND  39.62cm(15.6인치)       블랙   \n",
       "..        ...                            ...              ...      ...   \n",
       "295  GIGABYTE                AORUS 15G KB i7   39.6cm(15.6인치)    다크그레이   \n",
       "296  GIGABYTE                AORUS 17X YB i7   43.9cm(17.3인치)       블랙   \n",
       "297      LG전자        2020 그램15 15ZD90N-VX70K   39.6cm(15.6인치)      화이트   \n",
       "298       레노버        Yoga C940-14IIL i5 Gaia     35.5cm(14인치)  골드, 그레이   \n",
       "299       MSI  GF시리즈 GF75 Thin 9SC-I7 파워팩 프로  43.94cm(17.3인치)       블랙   \n",
       "\n",
       "         무게            사용용도       가격  \n",
       "0    1.86kg     게임용, 그래픽작업용  1345000  \n",
       "1    1.69kg  그래픽작업용, 사무/인강용   799000  \n",
       "2    1.75kg          사무/인강용   931000  \n",
       "3     2.0kg          그래픽작업용  2967000  \n",
       "4     2.2kg     게임용, 그래픽작업용   675000  \n",
       "..      ...             ...      ...  \n",
       "295  2.19kg     게임용, 그래픽작업용  2385000  \n",
       "296  3.75kg     게임용, 그래픽작업용  3864000  \n",
       "297  1.12kg     사무/인강용, 휴대용  1627000  \n",
       "298  1.35kg     사무/인강용, 휴대용  1935000  \n",
       "299   2.2kg     게임용, 그래픽작업용  1154000  \n",
       "\n",
       "[267 rows x 7 columns]"
      ]
     },
     "execution_count": 66,
     "metadata": {},
     "output_type": "execute_result"
    }
   ],
   "source": [
    "new_df #'단종'과 '일시품절'제품 제외됨."
   ]
  },
  {
   "cell_type": "code",
   "execution_count": 69,
   "metadata": {},
   "outputs": [
    {
     "name": "stdout",
     "output_type": "stream",
     "text": [
      "<class 'pandas.core.frame.DataFrame'>\n",
      "Int64Index: 267 entries, 0 to 299\n",
      "Data columns (total 7 columns):\n",
      " #   Column  Non-Null Count  Dtype \n",
      "---  ------  --------------  ----- \n",
      " 0   제조사     267 non-null    object\n",
      " 1   제품명     267 non-null    object\n",
      " 2   화면크기    267 non-null    object\n",
      " 3   색상      267 non-null    object\n",
      " 4   무게      267 non-null    object\n",
      " 5   사용용도    267 non-null    object\n",
      " 6   가격      267 non-null    object\n",
      "dtypes: object(7)\n",
      "memory usage: 16.7+ KB\n"
     ]
    }
   ],
   "source": [
    "new_df.info() #총 267개의 자료가 남음.\n",
    "#다시 엑셀에 업데이트.\n",
    "new_df.to_excel(\"C:\\\\Users\\\\KIM EUNKI\\\\Google 드라이브\\\\GitHub\\\\Practice\\\\Danawa_Crawling\\\\New_Danawa_notebook.xlsx\")"
   ]
  },
  {
   "cell_type": "markdown",
   "metadata": {},
   "source": [
    "# 제조사별 가격 평균"
   ]
  },
  {
   "cell_type": "markdown",
   "metadata": {},
   "source": [
    "- 가격 평균을 구하기 위해 가격을 정수형(int)로 변환하기"
   ]
  },
  {
   "cell_type": "code",
   "execution_count": 70,
   "metadata": {},
   "outputs": [
    {
     "data": {
      "text/plain": [
       "dtype('O')"
      ]
     },
     "execution_count": 70,
     "metadata": {},
     "output_type": "execute_result"
    }
   ],
   "source": [
    "new_df['가격'].dtype"
   ]
  },
  {
   "cell_type": "code",
   "execution_count": 72,
   "metadata": {},
   "outputs": [],
   "source": [
    "new_df['가격']=new_df['가격'].astype(int) #'가격' 컬럼을 정수로 변환."
   ]
  },
  {
   "cell_type": "code",
   "execution_count": 79,
   "metadata": {},
   "outputs": [
    {
     "name": "stdout",
     "output_type": "stream",
     "text": [
      "<class 'pandas.core.frame.DataFrame'>\n",
      "Int64Index: 267 entries, 0 to 299\n",
      "Data columns (total 7 columns):\n",
      " #   Column  Non-Null Count  Dtype \n",
      "---  ------  --------------  ----- \n",
      " 0   제조사     267 non-null    object\n",
      " 1   제품명     267 non-null    object\n",
      " 2   화면크기    267 non-null    object\n",
      " 3   색상      267 non-null    object\n",
      " 4   무게      267 non-null    object\n",
      " 5   사용용도    267 non-null    object\n",
      " 6   가격      267 non-null    int32 \n",
      "dtypes: int32(1), object(6)\n",
      "memory usage: 25.6+ KB\n"
     ]
    },
    {
     "data": {
      "text/html": [
       "<div>\n",
       "<style scoped>\n",
       "    .dataframe tbody tr th:only-of-type {\n",
       "        vertical-align: middle;\n",
       "    }\n",
       "\n",
       "    .dataframe tbody tr th {\n",
       "        vertical-align: top;\n",
       "    }\n",
       "\n",
       "    .dataframe thead th {\n",
       "        text-align: right;\n",
       "    }\n",
       "</style>\n",
       "<table border=\"1\" class=\"dataframe\">\n",
       "  <thead>\n",
       "    <tr style=\"text-align: right;\">\n",
       "      <th></th>\n",
       "      <th>제조사</th>\n",
       "      <th>제품명</th>\n",
       "      <th>화면크기</th>\n",
       "      <th>색상</th>\n",
       "      <th>무게</th>\n",
       "      <th>사용용도</th>\n",
       "      <th>가격</th>\n",
       "    </tr>\n",
       "  </thead>\n",
       "  <tbody>\n",
       "    <tr>\n",
       "      <th>0</th>\n",
       "      <td>MSI</td>\n",
       "      <td>GF시리즈 GF65 Thin 9SEXR</td>\n",
       "      <td>39.62cm(15.6인치)</td>\n",
       "      <td>블랙</td>\n",
       "      <td>1.86kg</td>\n",
       "      <td>게임용, 그래픽작업용</td>\n",
       "      <td>1345000</td>\n",
       "    </tr>\n",
       "    <tr>\n",
       "      <th>1</th>\n",
       "      <td>레노버</td>\n",
       "      <td>아이디어패드 Slim 5-15IIL Major i5</td>\n",
       "      <td>39.6cm(15.6인치)</td>\n",
       "      <td>그레이</td>\n",
       "      <td>1.69kg</td>\n",
       "      <td>그래픽작업용, 사무/인강용</td>\n",
       "      <td>799000</td>\n",
       "    </tr>\n",
       "    <tr>\n",
       "      <th>2</th>\n",
       "      <td>LG전자</td>\n",
       "      <td>2020 울트라PC 15U50N-GR56K</td>\n",
       "      <td>39.6cm(15.6인치)</td>\n",
       "      <td>화이트</td>\n",
       "      <td>1.75kg</td>\n",
       "      <td>사무/인강용</td>\n",
       "      <td>931000</td>\n",
       "    </tr>\n",
       "    <tr>\n",
       "      <th>3</th>\n",
       "      <td>APPLE</td>\n",
       "      <td>2019 맥북프로16 MVVK2KH/A</td>\n",
       "      <td>40.8cm(16인치)</td>\n",
       "      <td>그레이</td>\n",
       "      <td>2.0kg</td>\n",
       "      <td>그래픽작업용</td>\n",
       "      <td>2967000</td>\n",
       "    </tr>\n",
       "    <tr>\n",
       "      <th>4</th>\n",
       "      <td>레노버</td>\n",
       "      <td>아이디어패드 L340-15IRH i5 LEGEND</td>\n",
       "      <td>39.62cm(15.6인치)</td>\n",
       "      <td>블랙</td>\n",
       "      <td>2.2kg</td>\n",
       "      <td>게임용, 그래픽작업용</td>\n",
       "      <td>675000</td>\n",
       "    </tr>\n",
       "  </tbody>\n",
       "</table>\n",
       "</div>"
      ],
      "text/plain": [
       "     제조사                           제품명             화면크기   색상      무게  \\\n",
       "0    MSI         GF시리즈 GF65 Thin 9SEXR  39.62cm(15.6인치)   블랙  1.86kg   \n",
       "1    레노버  아이디어패드 Slim 5-15IIL Major i5   39.6cm(15.6인치)  그레이  1.69kg   \n",
       "2   LG전자       2020 울트라PC 15U50N-GR56K   39.6cm(15.6인치)  화이트  1.75kg   \n",
       "3  APPLE         2019 맥북프로16 MVVK2KH/A     40.8cm(16인치)  그레이   2.0kg   \n",
       "4    레노버   아이디어패드 L340-15IRH i5 LEGEND  39.62cm(15.6인치)   블랙   2.2kg   \n",
       "\n",
       "             사용용도       가격  \n",
       "0     게임용, 그래픽작업용  1345000  \n",
       "1  그래픽작업용, 사무/인강용   799000  \n",
       "2          사무/인강용   931000  \n",
       "3          그래픽작업용  2967000  \n",
       "4     게임용, 그래픽작업용   675000  "
      ]
     },
     "execution_count": 79,
     "metadata": {},
     "output_type": "execute_result"
    }
   ],
   "source": [
    "new_df.info()\n",
    "#다시 엑셀에 업데이트.\n",
    "new_df.to_excel(\"C:\\\\Users\\\\KIM EUNKI\\\\Google 드라이브\\\\GitHub\\\\Practice\\\\Danawa_Crawling\\\\New_Danawa_notebook.xlsx\")\n",
    "new_df.head()"
   ]
  },
  {
   "cell_type": "code",
   "execution_count": 87,
   "metadata": {},
   "outputs": [],
   "source": [
    "pd.options.display.float_format = '{:.2f}'.format #소숫점 아래 2자리까지 표시.\n",
    "company_price = new_df.groupby(['제조사']).mean()"
   ]
  },
  {
   "cell_type": "code",
   "execution_count": 88,
   "metadata": {},
   "outputs": [
    {
     "data": {
      "text/html": [
       "<div>\n",
       "<style scoped>\n",
       "    .dataframe tbody tr th:only-of-type {\n",
       "        vertical-align: middle;\n",
       "    }\n",
       "\n",
       "    .dataframe tbody tr th {\n",
       "        vertical-align: top;\n",
       "    }\n",
       "\n",
       "    .dataframe thead th {\n",
       "        text-align: right;\n",
       "    }\n",
       "</style>\n",
       "<table border=\"1\" class=\"dataframe\">\n",
       "  <thead>\n",
       "    <tr style=\"text-align: right;\">\n",
       "      <th></th>\n",
       "      <th>가격</th>\n",
       "    </tr>\n",
       "    <tr>\n",
       "      <th>제조사</th>\n",
       "      <th></th>\n",
       "    </tr>\n",
       "  </thead>\n",
       "  <tbody>\n",
       "    <tr>\n",
       "      <th>ACER</th>\n",
       "      <td>778500.00</td>\n",
       "    </tr>\n",
       "    <tr>\n",
       "      <th>APPLE</th>\n",
       "      <td>2073125.00</td>\n",
       "    </tr>\n",
       "    <tr>\n",
       "      <th>ASUS</th>\n",
       "      <td>865690.56</td>\n",
       "    </tr>\n",
       "    <tr>\n",
       "      <th>DELL</th>\n",
       "      <td>3051500.00</td>\n",
       "    </tr>\n",
       "    <tr>\n",
       "      <th>GIGABYTE</th>\n",
       "      <td>2865888.89</td>\n",
       "    </tr>\n",
       "    <tr>\n",
       "      <th>HP</th>\n",
       "      <td>517400.00</td>\n",
       "    </tr>\n",
       "    <tr>\n",
       "      <th>LG전자</th>\n",
       "      <td>1310558.82</td>\n",
       "    </tr>\n",
       "    <tr>\n",
       "      <th>MSI</th>\n",
       "      <td>1482348.48</td>\n",
       "    </tr>\n",
       "    <tr>\n",
       "      <th>Razer</th>\n",
       "      <td>3070200.00</td>\n",
       "    </tr>\n",
       "    <tr>\n",
       "      <th>레노버</th>\n",
       "      <td>944733.33</td>\n",
       "    </tr>\n",
       "    <tr>\n",
       "      <th>삼성전자</th>\n",
       "      <td>1470576.32</td>\n",
       "    </tr>\n",
       "    <tr>\n",
       "      <th>주연테크</th>\n",
       "      <td>358990.00</td>\n",
       "    </tr>\n",
       "    <tr>\n",
       "      <th>한성컴퓨터</th>\n",
       "      <td>1448730.77</td>\n",
       "    </tr>\n",
       "  </tbody>\n",
       "</table>\n",
       "</div>"
      ],
      "text/plain": [
       "                 가격\n",
       "제조사                \n",
       "ACER      778500.00\n",
       "APPLE    2073125.00\n",
       "ASUS      865690.56\n",
       "DELL     3051500.00\n",
       "GIGABYTE 2865888.89\n",
       "HP        517400.00\n",
       "LG전자     1310558.82\n",
       "MSI      1482348.48\n",
       "Razer    3070200.00\n",
       "레노버       944733.33\n",
       "삼성전자     1470576.32\n",
       "주연테크      358990.00\n",
       "한성컴퓨터    1448730.77"
      ]
     },
     "execution_count": 88,
     "metadata": {},
     "output_type": "execute_result"
    }
   ],
   "source": [
    "company_price"
   ]
  },
  {
   "cell_type": "code",
   "execution_count": 124,
   "metadata": {},
   "outputs": [],
   "source": [
    "# 막대차트 시각화.\n",
    "import pandas as pd\n",
    "from pandas import DataFrame\n",
    "from pandas import Series\n",
    "import matplotlib.pyplot as plt #맷플롯립 호출\n",
    "\n",
    "#한글폰트 설정\n",
    "from matplotlib import font_manager, rc\n",
    "font_name = font_manager.FontProperties(fname=\"c:/Windows/Fonts/malgun.ttf\").get_name()\n",
    "rc('font', family=font_name)"
   ]
  },
  {
   "cell_type": "code",
   "execution_count": 125,
   "metadata": {},
   "outputs": [
    {
     "data": {
      "image/png": "[encoded data removed]",
      "text/plain": [
       "<Figure size 432x288 with 1 Axes>"
      ]
     },
     "metadata": {
      "needs_background": "light"
     },
     "output_type": "display_data"
    }
   ],
   "source": [
    "company_price.plot(kind='bar')\n",
    "plt.show()"
   ]
  },
  {
   "cell_type": "markdown",
   "metadata": {},
   "source": [
    "# 화면크기별 가격 평균"
   ]
  },
  {
   "cell_type": "code",
   "execution_count": null,
   "metadata": {},
   "outputs": [],
   "source": []
  }
 ],
 "metadata": {
  "kernelspec": {
   "display_name": "Python 3",
   "language": "python",
   "name": "python3"
  },
  "language_info": {
   "codemirror_mode": {
    "name": "ipython",
    "version": 3
   },
   "file_extension": ".py",
   "mimetype": "text/x-python",
   "name": "python",
   "nbconvert_exporter": "python",
   "pygments_lexer": "ipython3",
   "version": "3.7.6"
  }
 },
 "nbformat": 4,
 "nbformat_minor": 4
}
