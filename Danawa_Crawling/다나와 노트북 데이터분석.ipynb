{
 "cells": [
  {
   "cell_type": "code",
   "execution_count": 48,
   "metadata": {},
   "outputs": [
    {
     "name": "stdout",
     "output_type": "stream",
     "text": [
      "<class 'pandas.core.frame.DataFrame'>\n",
      "RangeIndex: 300 entries, 0 to 299\n",
      "Data columns (total 4 columns):\n",
      " #   Column      Non-Null Count  Dtype \n",
      "---  ------      --------------  ----- \n",
      " 0   Unnamed: 0  300 non-null    int64 \n",
      " 1   상품명         300 non-null    object\n",
      " 2   스펙          300 non-null    object\n",
      " 3   가격          300 non-null    object\n",
      "dtypes: int64(1), object(3)\n",
      "memory usage: 9.5+ KB\n"
     ]
    },
    {
     "data": {
      "text/html": [
       "<div>\n",
       "<style scoped>\n",
       "    .dataframe tbody tr th:only-of-type {\n",
       "        vertical-align: middle;\n",
       "    }\n",
       "\n",
       "    .dataframe tbody tr th {\n",
       "        vertical-align: top;\n",
       "    }\n",
       "\n",
       "    .dataframe thead th {\n",
       "        text-align: right;\n",
       "    }\n",
       "</style>\n",
       "<table border=\"1\" class=\"dataframe\">\n",
       "  <thead>\n",
       "    <tr style=\"text-align: right;\">\n",
       "      <th></th>\n",
       "      <th>Unnamed: 0</th>\n",
       "      <th>상품명</th>\n",
       "      <th>스펙</th>\n",
       "      <th>가격</th>\n",
       "    </tr>\n",
       "  </thead>\n",
       "  <tbody>\n",
       "    <tr>\n",
       "      <th>0</th>\n",
       "      <td>0</td>\n",
       "      <td>MSI GF시리즈 GF65 Thin 9SEXR</td>\n",
       "      <td>39.62cm(15.6인치) / 인텔 / 코어i7-9세대 / 커피레이크-R / i7...</td>\n",
       "      <td>1345000</td>\n",
       "    </tr>\n",
       "    <tr>\n",
       "      <th>1</th>\n",
       "      <td>1</td>\n",
       "      <td>레노버 아이디어패드 Slim 5-15IIL Major i5</td>\n",
       "      <td>39.6cm(15.6인치) / 인텔 / 코어i5-10세대 / 아이스레이크 / i5-...</td>\n",
       "      <td>799000</td>\n",
       "    </tr>\n",
       "    <tr>\n",
       "      <th>2</th>\n",
       "      <td>2</td>\n",
       "      <td>LG전자 2020 울트라PC 15U50N-GR56K</td>\n",
       "      <td>39.6cm(15.6인치) / 인텔 / 코어i5-10세대 / 코멧레이크 / i5-1...</td>\n",
       "      <td>931000</td>\n",
       "    </tr>\n",
       "    <tr>\n",
       "      <th>3</th>\n",
       "      <td>3</td>\n",
       "      <td>APPLE 2019 맥북프로16 MVVK2KH/A</td>\n",
       "      <td>40.8cm(16인치) / 인텔 / 코어i9-9세대 / 커피레이크-R / i9-98...</td>\n",
       "      <td>2967000</td>\n",
       "    </tr>\n",
       "    <tr>\n",
       "      <th>4</th>\n",
       "      <td>4</td>\n",
       "      <td>레노버 아이디어패드 L340-15IRH i5 LEGEND</td>\n",
       "      <td>39.62cm(15.6인치) / 인텔 / 코어i5-9세대 / 커피레이크-R / i5...</td>\n",
       "      <td>675000</td>\n",
       "    </tr>\n",
       "  </tbody>\n",
       "</table>\n",
       "</div>"
      ],
      "text/plain": [
       "   Unnamed: 0                               상품명  \\\n",
       "0           0         MSI GF시리즈 GF65 Thin 9SEXR   \n",
       "1           1  레노버 아이디어패드 Slim 5-15IIL Major i5   \n",
       "2           2      LG전자 2020 울트라PC 15U50N-GR56K   \n",
       "3           3       APPLE 2019 맥북프로16 MVVK2KH/A   \n",
       "4           4   레노버 아이디어패드 L340-15IRH i5 LEGEND   \n",
       "\n",
       "                                                  스펙       가격  \n",
       "0  39.62cm(15.6인치) / 인텔 / 코어i7-9세대 / 커피레이크-R / i7...  1345000  \n",
       "1  39.6cm(15.6인치) / 인텔 / 코어i5-10세대 / 아이스레이크 / i5-...   799000  \n",
       "2  39.6cm(15.6인치) / 인텔 / 코어i5-10세대 / 코멧레이크 / i5-1...   931000  \n",
       "3  40.8cm(16인치) / 인텔 / 코어i9-9세대 / 커피레이크-R / i9-98...  2967000  \n",
       "4  39.62cm(15.6인치) / 인텔 / 코어i5-9세대 / 커피레이크-R / i5...   675000  "
      ]
     },
     "execution_count": 48,
     "metadata": {},
     "output_type": "execute_result"
    }
   ],
   "source": [
    "import pandas as pd\n",
    "df = pd.read_excel(\"C:\\\\Users\\\\KIM EUNKI\\\\Google 드라이브\\\\GitHub\\\\Practice\\\\Danawa_Crawling\\\\Danawa_notebook.xlsx\")\n",
    "df.info()\n",
    "df.head()"
   ]
  },
  {
   "cell_type": "markdown",
   "metadata": {},
   "source": [
    "데이터 전처리"
   ]
  },
  {
   "cell_type": "code",
   "execution_count": 50,
   "metadata": {},
   "outputs": [],
   "source": [
    "# 1열 없애기\n",
    "df.drop('Unnamed: 0', axis=1, inplace=True)"
   ]
  },
  {
   "cell_type": "code",
   "execution_count": 51,
   "metadata": {},
   "outputs": [
    {
     "name": "stdout",
     "output_type": "stream",
     "text": [
      "<class 'pandas.core.frame.DataFrame'>\n",
      "RangeIndex: 300 entries, 0 to 299\n",
      "Data columns (total 3 columns):\n",
      " #   Column  Non-Null Count  Dtype \n",
      "---  ------  --------------  ----- \n",
      " 0   상품명     300 non-null    object\n",
      " 1   스펙      300 non-null    object\n",
      " 2   가격      300 non-null    object\n",
      "dtypes: object(3)\n",
      "memory usage: 7.2+ KB\n"
     ]
    },
    {
     "data": {
      "text/html": [
       "<div>\n",
       "<style scoped>\n",
       "    .dataframe tbody tr th:only-of-type {\n",
       "        vertical-align: middle;\n",
       "    }\n",
       "\n",
       "    .dataframe tbody tr th {\n",
       "        vertical-align: top;\n",
       "    }\n",
       "\n",
       "    .dataframe thead th {\n",
       "        text-align: right;\n",
       "    }\n",
       "</style>\n",
       "<table border=\"1\" class=\"dataframe\">\n",
       "  <thead>\n",
       "    <tr style=\"text-align: right;\">\n",
       "      <th></th>\n",
       "      <th>상품명</th>\n",
       "      <th>스펙</th>\n",
       "      <th>가격</th>\n",
       "    </tr>\n",
       "  </thead>\n",
       "  <tbody>\n",
       "    <tr>\n",
       "      <th>0</th>\n",
       "      <td>MSI GF시리즈 GF65 Thin 9SEXR</td>\n",
       "      <td>39.62cm(15.6인치) / 인텔 / 코어i7-9세대 / 커피레이크-R / i7...</td>\n",
       "      <td>1345000</td>\n",
       "    </tr>\n",
       "    <tr>\n",
       "      <th>1</th>\n",
       "      <td>레노버 아이디어패드 Slim 5-15IIL Major i5</td>\n",
       "      <td>39.6cm(15.6인치) / 인텔 / 코어i5-10세대 / 아이스레이크 / i5-...</td>\n",
       "      <td>799000</td>\n",
       "    </tr>\n",
       "    <tr>\n",
       "      <th>2</th>\n",
       "      <td>LG전자 2020 울트라PC 15U50N-GR56K</td>\n",
       "      <td>39.6cm(15.6인치) / 인텔 / 코어i5-10세대 / 코멧레이크 / i5-1...</td>\n",
       "      <td>931000</td>\n",
       "    </tr>\n",
       "    <tr>\n",
       "      <th>3</th>\n",
       "      <td>APPLE 2019 맥북프로16 MVVK2KH/A</td>\n",
       "      <td>40.8cm(16인치) / 인텔 / 코어i9-9세대 / 커피레이크-R / i9-98...</td>\n",
       "      <td>2967000</td>\n",
       "    </tr>\n",
       "    <tr>\n",
       "      <th>4</th>\n",
       "      <td>레노버 아이디어패드 L340-15IRH i5 LEGEND</td>\n",
       "      <td>39.62cm(15.6인치) / 인텔 / 코어i5-9세대 / 커피레이크-R / i5...</td>\n",
       "      <td>675000</td>\n",
       "    </tr>\n",
       "  </tbody>\n",
       "</table>\n",
       "</div>"
      ],
      "text/plain": [
       "                                상품명  \\\n",
       "0         MSI GF시리즈 GF65 Thin 9SEXR   \n",
       "1  레노버 아이디어패드 Slim 5-15IIL Major i5   \n",
       "2      LG전자 2020 울트라PC 15U50N-GR56K   \n",
       "3       APPLE 2019 맥북프로16 MVVK2KH/A   \n",
       "4   레노버 아이디어패드 L340-15IRH i5 LEGEND   \n",
       "\n",
       "                                                  스펙       가격  \n",
       "0  39.62cm(15.6인치) / 인텔 / 코어i7-9세대 / 커피레이크-R / i7...  1345000  \n",
       "1  39.6cm(15.6인치) / 인텔 / 코어i5-10세대 / 아이스레이크 / i5-...   799000  \n",
       "2  39.6cm(15.6인치) / 인텔 / 코어i5-10세대 / 코멧레이크 / i5-1...   931000  \n",
       "3  40.8cm(16인치) / 인텔 / 코어i9-9세대 / 커피레이크-R / i9-98...  2967000  \n",
       "4  39.62cm(15.6인치) / 인텔 / 코어i5-9세대 / 커피레이크-R / i5...   675000  "
      ]
     },
     "execution_count": 51,
     "metadata": {},
     "output_type": "execute_result"
    }
   ],
   "source": [
    "df.info()\n",
    "df.head()"
   ]
  },
  {
   "cell_type": "code",
   "execution_count": 14,
   "metadata": {},
   "outputs": [],
   "source": [
    "# 회사명과 상품명 분리하기"
   ]
  },
  {
   "cell_type": "code",
   "execution_count": 52,
   "metadata": {},
   "outputs": [
    {
     "data": {
      "text/plain": [
       "0               MSI GF시리즈 GF65 Thin 9SEXR\n",
       "1        레노버 아이디어패드 Slim 5-15IIL Major i5\n",
       "2            LG전자 2020 울트라PC 15U50N-GR56K\n",
       "3             APPLE 2019 맥북프로16 MVVK2KH/A\n",
       "4         레노버 아이디어패드 L340-15IRH i5 LEGEND\n",
       "5    레노버 LEGION Y540-15IRH i5 Edition PRO\n",
       "6               ASUS 비보북 S15 S533FL-BQ504\n",
       "7              삼성전자 갤럭시북 이온 NT950XCR-G58A\n",
       "8          삼성전자 갤럭시북 플렉스 알파 NT750QCR-A38A\n",
       "9             APPLE 2019 맥북프로16 MVVJ2KH/A\n",
       "Name: 상품명, dtype: object"
      ]
     },
     "execution_count": 52,
     "metadata": {},
     "output_type": "execute_result"
    }
   ],
   "source": [
    "df['상품명'][:10]"
   ]
  },
  {
   "cell_type": "code",
   "execution_count": 53,
   "metadata": {},
   "outputs": [
    {
     "name": "stdout",
     "output_type": "stream",
     "text": [
      "['MSI', 'GF시리즈 GF65 Thin 9SEXR']\n"
     ]
    }
   ],
   "source": [
    "title = \"MSI GF시리즈 GF65 Thin 9SEXR\"\n",
    "info = title.split(' ', 1)\n",
    "print(info) #이런 식으로 나누면 됨"
   ]
  },
  {
   "cell_type": "code",
   "execution_count": 54,
   "metadata": {},
   "outputs": [],
   "source": [
    "company_list = []\n",
    "product_list = []\n",
    "\n",
    "for title in df['상품명']:\n",
    "    title_info = title.split(' ', 1) # 1번째 공백을 기준으로 나눔.\n",
    "    company_name = title_info[0]\n",
    "    product_name = title_info[1]\n",
    "    company_list.append(company_name)\n",
    "    product_list.append(product_name)"
   ]
  },
  {
   "cell_type": "code",
   "execution_count": 55,
   "metadata": {},
   "outputs": [
    {
     "name": "stdout",
     "output_type": "stream",
     "text": [
      "['MSI', '레노버', 'LG전자', 'APPLE', '레노버']\n"
     ]
    }
   ],
   "source": [
    "print(company_list[:5]) #잘 분류되었음을 확인."
   ]
  },
  {
   "cell_type": "markdown",
   "metadata": {},
   "source": [
    "스펙 정보 정리하기"
   ]
  },
  {
   "cell_type": "code",
   "execution_count": 73,
   "metadata": {},
   "outputs": [
    {
     "data": {
      "text/plain": [
       "'39.62cm(15.6인치) / 인텔 / 코어i7-9세대 / 커피레이크-R / i7-9750H 2.6GHz(4.5GHz) / 헥사코어 / 1920x1080(FHD) / 300nit / 144Hz / 광시야각(IPS) / 눈부심방지 / 슈퍼브라이트 / 슬림형 베젤 / DDR4 / 8GB / M.2(NVMe) / 512GB / RTX2060 / VRAM:6GB / 1Gbps 유선랜 / 802.11n/ac 무선 / 블루투스 5.0 / HDMI / 웹캠(HD) / USB Type-C / USB 3.0 / 키보드 라이트 / 51Wh / 운영체제 미포함 / 두께: 21.7mm / 1.86kg / 일반유통상품 / 용도: 게임용, 그래픽작업용 / 색상 : 블랙'"
      ]
     },
     "execution_count": 73,
     "metadata": {},
     "output_type": "execute_result"
    }
   ],
   "source": [
    "df['스펙'][0]"
   ]
  },
  {
   "cell_type": "code",
   "execution_count": 74,
   "metadata": {},
   "outputs": [
    {
     "name": "stdout",
     "output_type": "stream",
     "text": [
      "['39.62cm(15.6인치)', '인텔', '코어i7-9세대', '커피레이크-R', 'i7-9750H 2.6GHz(4.5GHz)', '헥사코어', '1920x1080(FHD)', '300nit', '144Hz', '광시야각(IPS)', '눈부심방지', '슈퍼브라이트', '슬림형 베젤', 'DDR4', '8GB', 'M.2(NVMe)', '512GB', 'RTX2060', 'VRAM:6GB', '1Gbps 유선랜', '802.11n/ac 무선', '블루투스 5.0', 'HDMI', '웹캠(HD)', 'USB Type-C', 'USB 3.0', '키보드 라이트', '51Wh', '운영체제 미포함', '두께: 21.7mm', '1.86kg', '일반유통상품', '용도: 게임용, 그래픽작업용', '색상 : 블랙']\n"
     ]
    }
   ],
   "source": [
    "print(df['스펙'][0].split(' / '))"
   ]
  },
  {
   "cell_type": "code",
   "execution_count": 87,
   "metadata": {},
   "outputs": [],
   "source": [
    "spec_list = df['스펙'][0].split(' / ')"
   ]
  },
  {
   "cell_type": "code",
   "execution_count": 88,
   "metadata": {},
   "outputs": [
    {
     "data": {
      "text/plain": [
       "'39.62cm(15.6인치)'"
      ]
     },
     "execution_count": 88,
     "metadata": {},
     "output_type": "execute_result"
    }
   ],
   "source": [
    "#필요한 정보만 추출하겠다. 예를 들면, [화면크기, 노트북 색상, 무게, 용도]\n",
    "#화면크기의 경우 : 항상 첫번째 스펙임\n",
    "\n",
    "screen_size = spec_list[0] #화면크기 정보 추출하여 변수 지정\n",
    "screen_size"
   ]
  },
  {
   "cell_type": "code",
   "execution_count": 126,
   "metadata": {},
   "outputs": [
    {
     "name": "stdout",
     "output_type": "stream",
     "text": [
      "색상 : 블랙\n",
      "1.86kg\n",
      "용도: 게임용, 그래픽작업용\n"
     ]
    }
   ],
   "source": [
    "#노트북 생상의 경우 '색상' 명시, 무게는 'kg', 사용용도는 '용도'\n",
    "for spec in spec_list:\n",
    "    if '색상' in spec:\n",
    "        notebook_color = spec\n",
    "    elif 'kg' in spec:\n",
    "        notebook_weight = spec\n",
    "    elif '용도' in spec:\n",
    "        notebook_purpose = spec\n",
    "    \n",
    "print(notebook_color)\n",
    "print(notebook_weight)\n",
    "print(notebook_purpose)"
   ]
  },
  {
   "cell_type": "code",
   "execution_count": 138,
   "metadata": {},
   "outputs": [
    {
     "name": "stdout",
     "output_type": "stream",
     "text": [
      "블랙\n",
      "게임용, 그래픽작업용\n"
     ]
    }
   ],
   "source": [
    "#색상과 용도의 내용을 정리\n",
    "\n",
    "notebook_color = notebook_color.split(':')[1].strip()\n",
    "notebook_purpose = notebook_purpose.split(':')[1].strip()\n",
    "\n",
    "print(notebook_color)\n",
    "print(notebook_purpose)"
   ]
  },
  {
   "cell_type": "code",
   "execution_count": null,
   "metadata": {},
   "outputs": [],
   "source": [
    "#반복문을 통해 데이터프레임의 화면크기, 색상, 무게, 사용 용도를 추출 (다시해볼것)"
   ]
  },
  {
   "cell_type": "code",
   "execution_count": 153,
   "metadata": {},
   "outputs": [],
   "source": [
    "size_list = []\n",
    "color_list = []\n",
    "weight_list = []\n",
    "purpose_list = []\n",
    "spec_list = spec_data.split(' / ')\n",
    "\n",
    "for spec_data in df['스펙']:\n",
    "    spec_list = spec_data.split(' / ')\n",
    "    \n",
    "    screen_size = spec_list[0]\n",
    "    size_list.append(screen_size)\n",
    "    \n",
    "    notebook_color = None\n",
    "    notebook_weight = None\n",
    "    notebook_purpose = None\n",
    "    \n",
    "    for spec in df['스펙']:\n",
    "        if '색상' in spec:\n",
    "            notebook_color = spec.split(':')[1].strip()\n",
    "        elif 'kg' in spec:\n",
    "            notebook_weight = spec\n",
    "        elif '용도' in spec:\n",
    "            notebook_purpose = spec.split(':')[1].strip() \n",
    "        \n",
    "    color_list.append(notebook_color)\n",
    "    weight_list.append(notebook_weight)\n",
    "    purpose_list.append(notebook_purpose)  "
   ]
  },
  {
   "cell_type": "code",
   "execution_count": 154,
   "metadata": {},
   "outputs": [
    {
     "name": "stdout",
     "output_type": "stream",
     "text": [
      "화면크기 300 ['39.62cm(15.6인치)', '39.6cm(15.6인치)', '39.6cm(15.6인치)', '40.8cm(16인치)', '39.62cm(15.6인치)']\n",
      "색상 119 4GB /\n",
      "무게 407 43.9c\n",
      "사용용도 26 9.9mm\n"
     ]
    }
   ],
   "source": [
    "print(\"화면크기\", len(size_list), size_list[0:5])\n",
    "print(\"색상\", len(notebook_color), notebook_color[0:5])\n",
    "print(\"무게\", len(notebook_weight), notebook_weight[0:5])\n",
    "print(\"사용용도\", len(notebook_purpose), notebook_purpose[0:5])"
   ]
  },
  {
   "cell_type": "code",
   "execution_count": null,
   "metadata": {},
   "outputs": [],
   "source": []
  },
  {
   "cell_type": "code",
   "execution_count": null,
   "metadata": {},
   "outputs": [],
   "source": []
  },
  {
   "cell_type": "code",
   "execution_count": null,
   "metadata": {},
   "outputs": [],
   "source": []
  },
  {
   "cell_type": "code",
   "execution_count": null,
   "metadata": {},
   "outputs": [],
   "source": []
  },
  {
   "cell_type": "code",
   "execution_count": null,
   "metadata": {},
   "outputs": [],
   "source": []
  },
  {
   "cell_type": "code",
   "execution_count": 59,
   "metadata": {},
   "outputs": [],
   "source": [
    "# 전처리한 데이터들을 new_df 변수에 저장하여 새로운 데이터프레임 만들기\n",
    "new_df = pd.DataFrame()\n",
    "new_df['제조사'] = company_list\n",
    "new_df['제품명'] = product_list"
   ]
  },
  {
   "cell_type": "code",
   "execution_count": 60,
   "metadata": {},
   "outputs": [
    {
     "data": {
      "text/html": [
       "<div>\n",
       "<style scoped>\n",
       "    .dataframe tbody tr th:only-of-type {\n",
       "        vertical-align: middle;\n",
       "    }\n",
       "\n",
       "    .dataframe tbody tr th {\n",
       "        vertical-align: top;\n",
       "    }\n",
       "\n",
       "    .dataframe thead th {\n",
       "        text-align: right;\n",
       "    }\n",
       "</style>\n",
       "<table border=\"1\" class=\"dataframe\">\n",
       "  <thead>\n",
       "    <tr style=\"text-align: right;\">\n",
       "      <th></th>\n",
       "      <th>제조사</th>\n",
       "      <th>제품명</th>\n",
       "    </tr>\n",
       "  </thead>\n",
       "  <tbody>\n",
       "    <tr>\n",
       "      <th>0</th>\n",
       "      <td>MSI</td>\n",
       "      <td>GF시리즈 GF65 Thin 9SEXR</td>\n",
       "    </tr>\n",
       "    <tr>\n",
       "      <th>1</th>\n",
       "      <td>레노버</td>\n",
       "      <td>아이디어패드 Slim 5-15IIL Major i5</td>\n",
       "    </tr>\n",
       "    <tr>\n",
       "      <th>2</th>\n",
       "      <td>LG전자</td>\n",
       "      <td>2020 울트라PC 15U50N-GR56K</td>\n",
       "    </tr>\n",
       "    <tr>\n",
       "      <th>3</th>\n",
       "      <td>APPLE</td>\n",
       "      <td>2019 맥북프로16 MVVK2KH/A</td>\n",
       "    </tr>\n",
       "    <tr>\n",
       "      <th>4</th>\n",
       "      <td>레노버</td>\n",
       "      <td>아이디어패드 L340-15IRH i5 LEGEND</td>\n",
       "    </tr>\n",
       "  </tbody>\n",
       "</table>\n",
       "</div>"
      ],
      "text/plain": [
       "     제조사                           제품명\n",
       "0    MSI         GF시리즈 GF65 Thin 9SEXR\n",
       "1    레노버  아이디어패드 Slim 5-15IIL Major i5\n",
       "2   LG전자       2020 울트라PC 15U50N-GR56K\n",
       "3  APPLE         2019 맥북프로16 MVVK2KH/A\n",
       "4    레노버   아이디어패드 L340-15IRH i5 LEGEND"
      ]
     },
     "execution_count": 60,
     "metadata": {},
     "output_type": "execute_result"
    }
   ],
   "source": [
    "new_df.head()"
   ]
  },
  {
   "cell_type": "code",
   "execution_count": null,
   "metadata": {},
   "outputs": [],
   "source": []
  }
 ],
 "metadata": {
  "kernelspec": {
   "display_name": "Python 3",
   "language": "python",
   "name": "python3"
  },
  "language_info": {
   "codemirror_mode": {
    "name": "ipython",
    "version": 3
   },
   "file_extension": ".py",
   "mimetype": "text/x-python",
   "name": "python",
   "nbconvert_exporter": "python",
   "pygments_lexer": "ipython3",
   "version": "3.7.6"
  }
 },
 "nbformat": 4,
 "nbformat_minor": 4
}
