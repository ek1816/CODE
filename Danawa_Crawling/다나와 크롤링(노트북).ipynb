{
 "cells": [
  {
   "cell_type": "code",
   "execution_count": 8,
   "metadata": {},
   "outputs": [],
   "source": [
    "#셀레니움으로 다나와 '노트북' 검색페이지 접속하기\n",
    "\n",
    "from selenium import webdriver\n",
    "browser = webdriver.Chrome(\"C:\\\\Users\\\\KIM EUNKI\\\\anaconda3\\\\chromedriver.exe\")\n",
    "url = 'https://search.danawa.com/dsearch.php?query=노트북&tab=goods'\n",
    "browser.get(url)"
   ]
  },
  {
   "cell_type": "markdown",
   "metadata": {},
   "source": [
    "웹페이지의 HTML 정보 가져오기"
   ]
  },
  {
   "cell_type": "code",
   "execution_count": 13,
   "metadata": {},
   "outputs": [],
   "source": [
    "from bs4 import BeautifulSoup\n",
    "\n",
    "html = browser.page_source\n",
    "soup = BeautifulSoup(html, 'html.parser')"
   ]
  },
  {
   "cell_type": "code",
   "execution_count": 16,
   "metadata": {},
   "outputs": [
    {
     "data": {
      "text/plain": [
       "31"
      ]
     },
     "execution_count": 16,
     "metadata": {},
     "output_type": "execute_result"
    }
   ],
   "source": [
    "# 1페이지에 대한 '노트북' 정보 가져오기\n",
    "# 1페이지의 첫번째 상품 태그명이 li, class 값은 prod_item 임을 확인.\n",
    "\n",
    "prod_items = soup.select('li.prod_item')\n",
    "len(prod_items)"
   ]
  },
  {
   "cell_type": "code",
   "execution_count": 18,
   "metadata": {},
   "outputs": [
    {
     "data": {
      "text/plain": [
       "31"
      ]
     },
     "execution_count": 18,
     "metadata": {},
     "output_type": "execute_result"
    }
   ],
   "source": [
    "# 1페이지의 상품 보기 개수는 30개인데 31개가 나옴, 30개만 검색하도록 상위 태그정보 추가.\n",
    "prod_items = soup.select('ul.product_list > li.prod_item')\n",
    "len(prod_items)"
   ]
  },
  {
   "cell_type": "code",
   "execution_count": 20,
   "metadata": {},
   "outputs": [
    {
     "data": {
      "text/plain": [
       "30"
      ]
     },
     "execution_count": 20,
     "metadata": {},
     "output_type": "execute_result"
    }
   ],
   "source": [
    "# 그래도 31개이므로 다시 상위 태그 추가\n",
    "prod_items = soup.select('div.main_prodlist > ul.product_list > li.prod_item')\n",
    "len(prod_items)\n",
    "\n",
    "#맨 위의 광고상품 제외함."
   ]
  },
  {
   "cell_type": "code",
   "execution_count": 23,
   "metadata": {
    "scrolled": true
   },
   "outputs": [
    {
     "name": "stdout",
     "output_type": "stream",
     "text": [
      "<li class=\"prod_item\" id=\"productItem11252112\">\n",
      "<input id=\"productItem_categoryInfo_11252112\" type=\"hidden\" value=\"디지털 완제품_노트북\"/>\n",
      "<input id=\"min_price_11252112\" type=\"hidden\" value=\"1345000\"/>\n",
      "<div class=\"prod_main_info\">\n",
      "<div class=\"thumb_image\">\n",
      "<a class=\"thumb_link\" href=\"http://prod.danawa.com/info/?pcode=11252112&amp;keyword=노트북&amp;cate=112758\" id=\"thumbLink_11252112\" onmousedown=\"_trkEventLog('통합검색_상품블로그_유입');\" target=\"_blank\">\n",
      "<img alt=\"GF65 Thin 9SEXR\" class=\"click_log_product_standard_img_\" src=\"http://img.danawa.com/prod_img/500000/112/252/img/11252112_1.jpg?shrink=160:160&amp;_v=20200527171813\"/>\n",
      "</a>\n",
      "<a class=\"btn_view_zoom\" data-assemblygallerycategory=\"N\" href=\"#\" id=\"imageZoom_11252112\" onclick=\"return false;\">\n",
      "<span class=\"ico i_zoom_vw\"></span>이미지보기\n",
      "\t\t\t\t\t\t\t</a>\n",
      "<a class=\"btn_view_video\" href=\"#\" id=\"imageVideo_11252112\" onclick=\"return false;\">\n",
      "<span class=\"badge_vdo\">동영상</span>\n",
      "</a>\n",
      "<input id=\"hidden_cate_sub_c1\" type=\"hidden\" value=\"860\"/>\n",
      "<input id=\"hidden_cate_sub_c2\" type=\"hidden\" value=\"869\"/>\n",
      "<input id=\"hidden_cate_sub_c3\" type=\"hidden\" value=\"12734\"/>\n",
      "</div>\n",
      "<div class=\"prod_info\">\n",
      "<p class=\"prod_name\">\n",
      "<a class=\"click_log_product_standard_title_\" href=\"http://prod.danawa.com/info/?pcode=11252112&amp;keyword=노트북&amp;cate=112758\" onmousedown=\"_trkEventLog('통합검색_상품블로그_유입'); doCTR('%EB%85%B8%ED%8A%B8%EB%B6%81','11252112',1);\" target=\"_blank\">MSI GF시리즈 GF65 Thin 9SEXR</a>\n",
      "</p>\n",
      "<dl class=\"prod_spec_set\">\n",
      "<dt class=\"screen_out\">상세 스펙</dt>\n",
      "<dd>\n",
      "<div class=\"spec_list\"><a class=\"view_dic\" href=\"#\" onclick=\"$.termDicViewLink(1476,'view',this,0,860,869); return false;\">39.62cm(15.6인치)</a> / <a class=\"view_dic\" href=\"#\" onclick=\"$.termDicViewLink(1706,'view',this,0,860,869); return false;\">인텔</a> / <a class=\"view_dic\" href=\"#\" onclick=\"$.termDicViewLink(29814,'view',this,0,860,869); return false;\">코어i7-9세대</a> / <a class=\"view_dic\" href=\"#\" onclick=\"$.termDicViewLink(29816,'view',this,0,860,869); return false;\">커피레이크-R</a> / <a class=\"view_dic\" href=\"#\" onclick=\"$.termDicViewLink(30997,'view',this,0,860,869); return false;\">i7-9750H 2.6GHz(4.5GHz)</a> / <a class=\"view_dic\" href=\"#\" onclick=\"$.termDicViewLink(2610,'view',this,0,860,869); return false;\">헥사코어</a> / <a class=\"view_dic\" href=\"#\" onclick=\"$.termDicViewLink(1708,'view',this,0,860,869); return false;\">1920x1080(FHD)</a> / 300nit / <a class=\"view_dic\" href=\"#\" onclick=\"$.termDicViewLink(26761,'view',this,0,860,869); return false;\">144Hz</a> / <a class=\"view_dic\" href=\"#\" onclick=\"$.termDicViewLink(3871,'view',this,0,860,869); return false;\">광시야각(IPS)</a> / <a class=\"view_dic\" href=\"#\" onclick=\"$.termDicViewLink(361,'view',this,0,860,869); return false;\">눈부심방지</a> / <a class=\"view_dic\" href=\"#\" onclick=\"$.termDicViewLink(29767,'view',this,0,860,869); return false;\">슈퍼브라이트</a> / <a class=\"view_dic\" href=\"#\" onclick=\"$.termDicViewLink(26549,'view',this,0,860,869); return false;\">슬림형 베젤</a> / <a class=\"view_dic\" href=\"#\" onclick=\"$.termDicViewLink(23556,'view',this,0,860,869); return false;\">DDR4</a> / <a class=\"view_dic\" href=\"#\" onclick=\"$.termDicViewLink(288,'view',this,0,860,869); return false;\">8GB</a> / <a class=\"view_dic\" href=\"#\" onclick=\"$.termDicViewLink(25742,'view',this,0,860,869); return false;\">M.2(NVMe)</a> / <a class=\"view_dic\" href=\"#\" onclick=\"$.termDicViewLink(2,'view',this,0,860,869); return false;\">512GB</a> / <a class=\"view_dic\" href=\"#\" onclick=\"$.termDicViewLink(30022,'view',this,0,860,869); return false;\">RTX2060</a> / <a class=\"view_dic\" href=\"#\" onclick=\"$.termDicViewLink(4102,'view',this,0,860,869); return false;\">VRAM:6GB</a> / <a class=\"view_dic\" href=\"#\" onclick=\"$.termDicViewLink(343,'view',this,0,860,869); return false;\">1Gbps 유선랜</a> / <a class=\"view_dic\" href=\"#\" onclick=\"$.termDicViewLink(10514,'view',this,0,860,869); return false;\">802.11n/ac 무선</a> / <a class=\"view_dic\" href=\"#\" onclick=\"$.termDicViewLink(3515,'view',this,0,860,869); return false;\">블루투스 5.0</a> / <a class=\"view_dic\" href=\"#\" onclick=\"$.termDicViewLink(290,'view',this,0,860,869); return false;\">HDMI</a> / <a class=\"view_dic\" href=\"#\" onclick=\"$.termDicViewLink(212773,'view',this,0,860,869); return false;\">웹캠(HD)</a> / <a class=\"view_dic\" href=\"#\" onclick=\"$.termDicViewLink(25931,'view',this,0,860,869); return false;\">USB Type-C</a> / <a class=\"view_dic\" href=\"#\" onclick=\"$.termDicViewLink(2794,'view',this,0,860,869); return false;\">USB 3.0</a> / <a class=\"view_dic\" href=\"#\" onclick=\"$.termDicViewLink(335,'view',this,0,860,869); return false;\">키보드 라이트</a> / <a class=\"view_dic\" href=\"#\" onclick=\"$.termDicViewLink(1990,'view',this,0,860,869); return false;\">51Wh</a> / <a class=\"view_dic\" href=\"#\" onclick=\"$.termDicViewLink(324,'view',this,0,860,869); return false;\">운영체제 미포함</a> / <a class=\"view_dic\" href=\"#\" onclick=\"$.termDicViewLink(25877,'view',this,0,860,869); return false;\">두께</a>: <a class=\"view_dic\" href=\"#\" onclick=\"$.termDicViewLink(25877,'view',this,0,860,869); return false;\">21.7mm</a> / <a class=\"view_dic\" href=\"#\" onclick=\"$.termDicViewLink(1478,'view',this,0,860,869); return false;\">1.86kg</a> / 일반유통상품 / <a class=\"view_dic\" href=\"#\" onclick=\"$.termDicViewLink(28127,'view',this,0,860,869); return false;\">용도</a>: <a class=\"view_dic\" href=\"#\" onclick=\"$.termDicViewLink(25541,'view',this,0,860,869); return false;\">게임용</a>, <a class=\"view_dic\" href=\"#\" onclick=\"$.termDicViewLink(25543,'view',this,0,860,869); return false;\">그래픽작업용</a> / 색상 : 블랙\t\t\t\t\t\t\t\t</div>\n",
      "</dd>\n",
      "</dl>\n",
      "<div class=\"relation_goods_unit\" id=\"relation_goods_unit_11252112\"></div>\n",
      "<div class=\"prod_sub_info\">\n",
      "<div class=\"prod_sub_meta\">\n",
      "<dl class=\"meta_item mt_date\">\n",
      "<dt>등록월</dt>\n",
      "<dd>2020.05</dd>\n",
      "</dl>\n",
      "<dl class=\"meta_item mt_comment\">\n",
      "<dt><span class=\"dt_behind\">상품의견</span></dt>\n",
      "<dd>\n",
      "<div class=\"cnt_star\">\n",
      "<div class=\"point_type_list\">\n",
      "<div class=\"mask\" style=\"width:98%\">\n",
      "</div>\n",
      "</div>\n",
      "<div class=\"point_num\">\n",
      "<strong>98</strong>점\n",
      "\t\t\t\t\t\t\t\t\t\t\t\t\t\t</div>\n",
      "</div>\n",
      "<div class=\"cnt_opinion\">\n",
      "\t\t\t\t\t\t\t\t\t\t\t\t\t\t(<a class=\"click_log_prod_content_count\" href=\"http://prod.danawa.com/info/?pcode=11252112&amp;keyword=노트북&amp;cate=112758#bookmark_cm_opinion\" onmousedown=\"_trkEventLog('통합검색_상품블로그_유입');\" target=\"_blank\"><strong>28</strong></a>건)\n",
      "\t\t\t\t\t\t\t\t\t\t\t\t\t</div>\n",
      "</dd>\n",
      "</dl>\n",
      "<dl class=\"meta_item\">\n",
      "<dt class=\"screen_out\">관심상품</dt>\n",
      "<dd><a class=\"click_log_wishList\" href=\"#\" onclick=\"javascript:$.danawaAddProductToWishList(this,'11252112','search');return false;\" onmousedown=\"doCTR('%EB%85%B8%ED%8A%B8%EB%B6%81','11252112',4);\" title=\"관심상품에 담기\">관심상품</a></dd>\n",
      "<input id=\"wishListBundleVal_11252112\" type=\"hidden\" value=\"//MSI GF시리즈 GF65 Thin 9SEXR\"/>\n",
      "</dl>\n",
      "</div>\n",
      "<dl class=\"prod_category_location\">\n",
      "<dt class=\"screen_out\">상품분류</dt>\n",
      "<dd>\n",
      "<a href=\"http://prod.danawa.com/list/?cate=112758\" onmousedown=\"869\" target=\"doCTR('%EB%85%B8%ED%8A%B8%EB%B6%81',11252112,3);\"><span>노트북/태블릿PC</span> &gt; <span>노트북</span></a> <div class=\"more_cate_layer\" style=\"display: none; z-index: 1;\">\n",
      "<ul class=\"list_category_location\">\n",
      "</ul>\n",
      "</div>\n",
      "</dd>\n",
      "</dl>\n",
      "</div>\n",
      "</div>\n",
      "<div class=\"prod_pricelist\" data-cate=\"860|869|12734|0\">\n",
      "<ul>\n",
      "<li class=\"rank_one\" id=\"productInfoDetail_11252112\">\n",
      "<p class=\"chk_sect\">\n",
      "\t\t\t\t\t\t\t\t\t\t47몰\n",
      "\t\t\t\t\t\t\t\t\t\t\t\t\t\t\t\t\t\t\t\t\t<label for=\"prodCompareCheck_11252112\">\n",
      "<input id=\"prodCompareCheck_11252112\" type=\"checkbox\"/><strong>상품비교</strong>\n",
      "</label>\n",
      "<input name=\"compareValue\" type=\"hidden\" value=\"11252112\"/>\n",
      "<input name=\"compareRepValue\" type=\"hidden\" value=\"11252112\"/>\n",
      "</p>\n",
      "<p class=\"price_sect\">\n",
      "<a class=\"click_log_product_standard_price_\" href=\"http://prod.danawa.com/info/?pcode=11252112&amp;keyword=노트북&amp;cate=112758\" onmousedown=\"doCTR('%EB%85%B8%ED%8A%B8%EB%B6%81','11252112',1);; _trkEventLog('통합검색_상품블로그_유입'); \" target=\"_blank\">\n",
      "<strong>1,345,000</strong>원\t\t\t\t\t\t\t\t\t\t</a>\n",
      "<span class=\"more_btn_wrap\">\n",
      "<button class=\"ico i_more\">가격정보 더보기</button>\n",
      "<span class=\"layer_price_more\" id=\"layer_price_more_11252112\"></span>\n",
      "<span class=\"sep_line\"></span>\n",
      "</span>\n",
      "</p>\n",
      "<p class=\"memory_sect\">\n",
      "\t\t\t\t\t\t\t\t\t\t\t\t\t\t\t\t\t\t\t\t\t\t\tSSD 512GB\t\t\t\t\t\t\t\t\t\t\t\t\t\t\t\t\t\t\t\t\t\t<a href=\"http://prod.danawa.com/info/?pcode=11252112&amp;keyword=노트북&amp;cate=112758\" onmousedown=\"doCTR('%EB%85%B8%ED%8A%B8%EB%B6%81','11252112',1);\" target=\"_blank\">\n",
      "</a>\n",
      "</p>\n",
      "</li>\n",
      "</ul>\n",
      "</div>\n",
      "</div>\n",
      "</li>\n"
     ]
    }
   ],
   "source": [
    "print(prod_items[0])"
   ]
  },
  {
   "cell_type": "code",
   "execution_count": 28,
   "metadata": {},
   "outputs": [
    {
     "name": "stdout",
     "output_type": "stream",
     "text": [
      "MSI GF시리즈 GF65 Thin 9SEXR\n"
     ]
    }
   ],
   "source": [
    "# 첫번째 상품 p태그의 prod_name 추출\n",
    "title = prod_items[0].select('p.prod_name')[0].text.strip() #strip으로 앞, 뒤 공백 제거.\n",
    "print(title)"
   ]
  },
  {
   "cell_type": "code",
   "execution_count": 30,
   "metadata": {},
   "outputs": [
    {
     "name": "stdout",
     "output_type": "stream",
     "text": [
      "39.62cm(15.6인치) / 인텔 / 코어i7-9세대 / 커피레이크-R / i7-9750H 2.6GHz(4.5GHz) / 헥사코어 / 1920x1080(FHD) / 300nit / 144Hz / 광시야각(IPS) / 눈부심방지 / 슈퍼브라이트 / 슬림형 베젤 / DDR4 / 8GB / M.2(NVMe) / 512GB / RTX2060 / VRAM:6GB / 1Gbps 유선랜 / 802.11n/ac 무선 / 블루투스 5.0 / HDMI / 웹캠(HD) / USB Type-C / USB 3.0 / 키보드 라이트 / 51Wh / 운영체제 미포함 / 두께: 21.7mm / 1.86kg / 일반유통상품 / 용도: 게임용, 그래픽작업용 / 색상 : 블랙\n"
     ]
    }
   ],
   "source": [
    "# 스펙목록은 div 태그의 spec_list 클래스.\n",
    "spec_list = prod_items[0].select('div.spec_list')[0].text.strip()\n",
    "print(spec_list)"
   ]
  },
  {
   "cell_type": "code",
   "execution_count": 38,
   "metadata": {},
   "outputs": [
    {
     "name": "stdout",
     "output_type": "stream",
     "text": [
      "1345000\n"
     ]
    }
   ],
   "source": [
    "# 첫번째 상품의 가격정보: p 태그의 price_sect\n",
    "price = prod_items[0].select('p.price_sect > a > strong')[0].text.strip().replace(',', '') #천단위 콤마 제거\n",
    "print(price)"
   ]
  },
  {
   "cell_type": "markdown",
   "metadata": {},
   "source": [
    "위 코드를 바탕으로 첫페이지의 30개 상품 정보 수집(반복문)"
   ]
  },
  {
   "cell_type": "code",
   "execution_count": 41,
   "metadata": {
    "scrolled": true
   },
   "outputs": [
    {
     "name": "stdout",
     "output_type": "stream",
     "text": [
      "30\n",
      "[['MSI GF시리즈 GF65 Thin 9SEXR', '39.62cm(15.6인치) / 인텔 / 코어i7-9세대 / 커피레이크-R / i7-9750H 2.6GHz(4.5GHz) / 헥사코어 / 1920x1080(FHD) / 300nit / 144Hz / 광시야각(IPS) / 눈부심방지 / 슈퍼브라이트 / 슬림형 베젤 / DDR4 / 8GB / M.2(NVMe) / 512GB / RTX2060 / VRAM:6GB / 1Gbps 유선랜 / 802.11n/ac 무선 / 블루투스 5.0 / HDMI / 웹캠(HD) / USB Type-C / USB 3.0 / 키보드 라이트 / 51Wh / 운영체제 미포함 / 두께: 21.7mm / 1.86kg / 일반유통상품 / 용도: 게임용, 그래픽작업용 / 색상 : 블랙', '1345000'], ['레노버 아이디어패드 Slim 5-15IIL Major i5', '39.6cm(15.6인치) / 인텔 / 코어i5-10세대 / 아이스레이크 / i5-1035G1 1.0GHz(3.6GHz) / 쿼드코어 / 1920x1080(FHD) / 300nit / 광시야각(IPS) / 눈부심방지 / 슈퍼브라이트 / 슬림형 베젤 / DDR4 / 8GB / M.2(NVMe) / 256GB / UHD Graphics / MX350 / VRAM:2GB / 802.11n/ac 무선 / 블루투스 5.1 / HDMI / 웹캠(HD) / USB Type-C / USB 3.0 / SD카드 / 숫자 키패드 / 키보드 라이트 / 지문 인식 / 웹캠OFF 지원 / 고속충전 / USB-PD / 57Wh / 운영체제 미포함 / 두께: 19.9mm / 1.69kg / 일반유통상품 / 용도: 그래픽작업용, 사무/인강용 / 색상 : 그레이', '799000'], ['LG전자 2020 울트라PC 15U50N-GR56K', '39.6cm(15.6인치) / 인텔 / 코어i5-10세대 / 코멧레이크 / i5-10210U 1.6GHz(4.2GHz) / 쿼드코어 / 1920x1080(FHD) / 광시야각(IPS) / 슬림형 베젤 / DDR4 / 8GB / M.2(NVMe) / 256GB / UHD Graphics / 1Gbps 유선랜 / 802.11ax 무선 / 블루투스 / HDMI / 웹캠(HD) / USB 3.1 Type-C / USB 3.0 / MicroSD카드 / 숫자 키패드 / 35Wh / 윈도우10 / 두께: 19.9mm / 1.75kg / 일반유통상품 / 용도: 사무/인강용 / 색상 : 화이트', '931000'], ['APPLE 2019 맥북프로16 MVVK2KH/A', '40.8cm(16인치) / 인텔 / 코어i9-9세대 / 커피레이크-R / i9-9880H 2.3GHz(4.8GHz) / 옥타코어 / 3072x1920 / 광시야각(IPS) / 슈퍼브라이트 / 트루톤 / LPDDR4(온보드) / 16GB / SSD / 1TB / UHD 630 / 라데온 Pro 5500M / VRAM:4GB / 802.11n/ac 무선 / 블루투스 5.0 / 웹캠(HD) / 썬더볼트: 4개 / USB 3.1 Type-C / USB-A없음 / 키보드 라이트 / 지문 인식 / Apple T2 / 터치바 / 100Wh / macOS Catalina / 두께: 16.2mm / 2.0kg / 일반유통상품 / 용도: 그래픽작업용 / 색상: 그레이 / 출시가: 3,690,000원', '2967000'], ['레노버 아이디어패드 L340-15IRH i5 LEGEND', '39.62cm(15.6인치) / 인텔 / 코어i5-9세대 / 커피레이크-R / i5-9300HF 2.4GHz(4.1GHz) / 쿼드코어 / 1920x1080(FHD) / 광시야각(IPS) / 눈부심방지 / DDR4 / 4GB / HDD:1TB / GTX1650 / VRAM:4GB / 유선랜 / 802.11n/ac 무선 / 블루투스 4.2 / HDMI / 웹캠(HD) / USB Type-C / USB 3.0 / 숫자 키패드 / 키보드 라이트 / 45Wh / 운영체제 미포함 / 두께: 23.9mm / 2.2kg / 일반유통상품 / 용도: 게임용, 그래픽작업용 / 색상: 블랙 / 2020년 1월 CPU 변경 (i5-9300H -> i5-9300HF)', '675000'], ['레노버 LEGION Y540-15IRH i5 Edition PRO', '39.6cm(15.6인치) / 인텔 / 코어i5-9세대 / 커피레이크-R / i5-9300HF 2.4GHz(4.1GHz) / 쿼드코어 / 1920x1080(FHD) / 300nit / 광시야각(IPS) / 슈퍼브라이트 / 슬림형 베젤 / DDR4 / 8GB / M.2(NVMe) / 256GB / GTX1660 Ti / VRAM:6GB / 1Gbps 유선랜 / 802.11n/ac 무선 / 블루투스 4.2 / HDMI 2.0 / mini DP / 웹캠 / USB Type-C / USB 3.0 / 숫자 키패드 / 키보드 라이트 / 57Wh / 운영체제 미포함 / 두께: 26mm / 2.3kg / 구성변경상품 / 용도: 게임용, 그래픽작업용 / 색상 : 블랙', '884000'], ['ASUS 비보북 S15 S533FL-BQ504', '39.62cm(15.6인치) / 인텔 / 코어i5-10세대 / 코멧레이크 / i5-10210U 1.6GHz(4.2GHz) / 쿼드코어 / 1920x1080(FHD) / 250nit / 광시야각 / 눈부심방지 / 슬림형 베젤 / DDR4 / 8GB / M.2(NVMe) / 512GB / UHD Graphics / 지포스 MX250 / VRAM:2GB / 802.11n/ac 무선 / 블루투스 4.1 / HDMI / 웹캠(HD) / USB Type-C / USB 3.0 / USB 2.0 / MicroSD카드 / 숫자 키패드 / 키보드 라이트 / 지문 인식 / 고속충전 / 50Wh / 운영체제 미포함 / 두께: 16.1mm / 1.8kg / 일반유통상품 / 용도: 그래픽작업용, 사무/인강용 / 색상 : 실버', '820000'], ['삼성전자 갤럭시북 이온 NT950XCR-G58A', '39.6cm(15.6인치) / 인텔 / 코어i5-10세대 / 코멧레이크 / i5-10210U 1.6GHz(4.2GHz) / 쿼드코어 / 1920x1080(FHD) / 광시야각 / 슬림형 베젤 / DDR4 / 8GB / M.2(NVMe) / 256GB / UHD Graphics / 지포스 MX250 / VRAM:2GB / 802.11ax 무선랜 / 블루투스 5.0 / HDMI / 웹캠(HD) / 썬더볼트: 1개 / USB Type-C / USB 3.0 / UFS / MicroSD카드 / 숫자 키패드 / 키보드 라이트 / 지문 인식 / TPM / USB-PD / 69.7Wh / 운영체제 미포함 / 두께: 14.9mm / 1.26kg / 일반유통상품 / 용도: 그래픽작업용, 사무/인강용, 휴대용 / 무선 배터리 공유 / 색상 : 실버', '1428000'], ['삼성전자 갤럭시북 플렉스 알파 NT750QCR-A38A', '39.6cm(15.6인치) / 인텔 / 코어i3-10세대 / 코멧레이크 / i3-10110U 2.1GHz(4.1GHz) / 듀얼코어 / 1920x1080(FHD) / 광시야각 / 슬림형 베젤 / 터치스크린 / 밝기자동조절 / 회전LCD / DDR4 / 8GB / M.2(NVMe) / 256GB / UHD Graphics / 802.11ax 무선 / 블루투스 5.0 / HDMI / 웹캠(HD) / USB Type-C / USB 3.0 / UFS / MicroSD카드 / 숫자 키패드 / 키보드 라이트 / 지문 인식 / TPM / 전용 펜 지원 / 전용 펜 포함 / 54Wh / 운영체제 미포함 / 두께: 15.9mm / 1.63kg / 일반유통상품 / 용도: 사무/인강용, 휴대용 / 색상 : 그레이', '1346000'], ['APPLE 2019 맥북프로16 MVVJ2KH/A', '40.8cm(16인치) / 인텔 / 코어i7-9세대 / 커피레이크-R / i7-9750H 2.6GHz(4.5GHz) / 헥사코어 / 3072x1920 / 광시야각(IPS) / 슈퍼브라이트 / 트루톤 / LPDDR4(온보드) / 16GB / SSD / 512GB / UHD 630 / 라데온 Pro 5300M / VRAM:4GB / 802.11n/ac 무선 / 블루투스 5.0 / 웹캠(HD) / 썬더볼트: 4개 / USB 3.1 Type-C / USB-A없음 / 키보드 라이트 / 지문 인식 / Apple T2 / 터치바 / 100Wh / macOS Catalina / 두께: 16.2mm / 2.0kg / 일반유통상품 / 용도: 그래픽작업용 / 색상: 그레이 / 출시가: 3,190,000원', '2578000'], ['MSI 모던시리즈 모던14 B4MW-R5', '35.56cm(14인치) / AMD / 라이젠5-3세대 / 르누아르 / 4500U 2.3GHz(4.0GHz) / 헥사코어 / 1920x1080(FHD) / 300nit / 광시야각(IPS) / 눈부심방지 / 슈퍼브라이트 / 슬림형 베젤 / DDR4 / 8GB / M.2(NVMe) / 256GB / Radeon Graphics / 802.11n/ac 무선 / 블루투스 5.0 / HDMI / 웹캠(HD) / USB Type-C / USB 2.0 / MicroSD카드 / 키보드 라이트 / MIL-STD / 52Wh / 운영체제 미포함 / 두께: 16.9mm / 1.3kg / 일반유통상품 / 용도: 사무/인강용, 휴대용 / 색상 : 블랙', '638000'], ['LG전자 2019 울트라PC 15UD490-GX36K', '39.62cm(15.6인치) / AMD / 라이젠3-1세대 / 레이븐 릿지 / 2300U 2GHz(3.4GHz) / 쿼드코어 / 1920x1080(FHD) / 광시야각(IPS) / DDR4 / 4GB / M.2 / 128GB / Vega 6 / 1Gbps 유선랜 / 802.11n/ac 무선 / 블루투스 / HDMI / 웹캠(HD) / SD카드 / 숫자 키패드 / 운영체제 미포함 / 두께: 20.9mm / 1.94kg / 일반유통상품 / 용도: 사무/인강용 / 색상: 화이트', '486000'], ['MSI GF시리즈 GF75 Thin 9SC-i7 파워팩 프로 WIN10', '43.94cm(17.3인치) / 인텔 / 코어i7-9세대 / 커피레이크-R / i7-9750H 2.6GHz(4.5GHz) / 헥사코어 / 1920x1080(FHD) / 광시야각(IPS) / 눈부심방지 / 슬림형 베젤 / DDR4 / 16GB / M.2(NVMe) / 256GB / GTX1650 / VRAM:4GB / 1Gbps 유선랜 / 802.11n/ac 무선 / 블루투스 5.0 / HDMI / 웹캠 / USB Type-C / USB 3.0 / 숫자 키패드 / 키보드 라이트 / 51Wh / 윈도우10 / 두께: 23.1mm / 2.2kg / 구성변경상품 / 용도: 게임용, 그래픽작업용 / 색상: 블랙', '1210000'], ['LG전자 2020 그램15 15ZD90N-VX50K', '39.6cm(15.6인치) / 인텔 / 코어i5-10세대 / 아이스레이크 / i5-1035G7 1.2GHz(3.7GHz) / 쿼드코어 / 1920x1080(FHD) / 광시야각(IPS) / 슬림형 베젤 / DDR4 / 8GB / M.2(NVMe) / 256GB / Iris Plus Graphics / 802.11ax 무선랜 / 블루투스 / HDMI / 웹캠(HD) / 썬더볼트: 1개 / USB 3.1 Type-C / USB 3.1 / UFS / MicroSD카드 / 숫자 키패드 / 키보드 라이트 / MIL-STD / 지문 인식 / USB-PD / 80Wh / 운영체제 미포함 / 두께: 16.8mm / 1.12kg / 일반유통상품 / 용도: 사무/인강용, 휴대용 / 색상 : 화이트', '1312000'], ['삼성전자 갤럭시북 이온 NT950XCJ-X716A', '39.6cm(15.6인치) / 인텔 / 코어i7-10세대 / 코멧레이크 / i7-10510U 1.8GHz(4.9GHz) / 쿼드코어 / 1920x1080(FHD) / 광시야각 / 슬림형 베젤 / DDR4 / 16GB / M.2(NVMe) / 512GB / UHD Graphics / 지포스 MX250 / VRAM:2GB / 802.11ax 무선랜 / 블루투스 5.0 / HDMI / 웹캠(HD) / 썬더볼트: 1개 / USB Type-C / USB 3.0 / UFS / MicroSD카드 / 숫자 키패드 / 키보드 라이트 / 지문 인식 / TPM / USB-PD / 69.7Wh / 윈도우10 / 두께: 14.9mm / 1.26kg / 일반유통상품 / 용도: 그래픽작업용, 사무/인강용, 휴대용 / 무선 배터리 공유 / 색상 : 실버', '1896000'], ['레노버 플렉스5 14ARE R5 W10', '35.5cm(14인치) / AMD / 라이젠5-3세대 / 르누아르 / 4500U 2.3GHz(4.0GHz) / 헥사코어 / 1920x1080(FHD) / 광시야각(IPS) / 슬림형 베젤 / 터치스크린 / DDR4 / 8GB / M.2(NVMe) / 256GB / Radeon Graphics / 802.11n/ac 무선 / 블루투스 4.2 / HDMI / 웹캠(HD) / USB Type-C / USB 3.0 / SD카드 / 키보드 라이트 / 지문 인식 / 웹캠OFF 지원 / 고속충전 / 전용 펜 지원 / 전용 펜 포함 / USB-PD / 52.5Wh / 윈도우10 / 두께: 17.9mm / 1.53kg / 일반유통상품 / 용도: 사무/인강용 / 색상 : 그레이', '790000'], ['레노버 LEGION Y540-15IRH i7 Prime Edition', '39.62cm(15.6인치) / 인텔 / 코어i7-9세대 / 커피레이크-R / i7-9750HF 2.6GHz(4.5GHz) / 헥사코어 / 1920x1080(FHD) / 광시야각(IPS) / 슈퍼브라이트 / 슬림형 베젤 / DDR4 / 16GB / HDD:1TB / M.2(NVMe) / 512GB / GTX1660 Ti / VRAM:6GB / 1Gbps 유선랜 / 802.11n/ac 무선 / 블루투스 4.2 / HDMI 2.0 / mini DP / 웹캠(HD) / USB Type-C / USB 3.0 / 숫자 키패드 / 키보드 라이트 / 57Wh / 운영체제 미포함 / 두께: 26mm / 2.3kg / 구성변경상품 / 용도: 게임용, 그래픽작업용 / 색상: 블랙 / 2020년 1월 CPU 변경 (i7-9750H -> i7-9750HF)', '1330000'], ['LG전자 2020 그램17 17ZD90N-VX5BK', '43.1cm(17인치) / 인텔 / 코어i5-10세대 / 아이스레이크 / i5-1035G7 1.2GHz(3.7GHz) / 쿼드코어 / 2560x1600(WQXGA) / 광시야각(IPS) / 슬림형 베젤 / DDR4 / 8GB / M.2(NVMe) / 256GB / Iris Plus Graphics / 802.11ax 무선랜 / 블루투스 / HDMI / 웹캠(HD) / 썬더볼트: 1개 / USB 3.1 Type-C / USB 3.1 / UFS / MicroSD카드 / 숫자 키패드 / 키보드 라이트 / MIL-STD / 지문 인식 / USB-PD / 80Wh / 운영체제 미포함 / 두께: 17.4mm / 1.35kg / 일반유통상품 / 용도: 사무/인강용, 휴대용 / 색상: 다크실버', '1410000'], ['레노버 아이디어패드 SLIM 5-15ARE R5', '39.62cm(15.6인치) / AMD / 라이젠5-3세대 / 르누아르 / 4500U 2.3GHz(4.0GHz) / 헥사코어 / 1920x1080(FHD) / 300nit / 광시야각(IPS) / 눈부심방지 / 슈퍼브라이트 / 슬림형 베젤 / DDR4 / 8GB / M.2(NVMe) / 256GB / Radeon Graphics / 802.11n/ac 무선 / 블루투스 5.1 / HDMI / 웹캠(HD) / USB Type-C / USB 3.0 / SD카드 / 숫자 키패드 / 키보드 라이트 / 지문 인식 / 웹캠OFF 지원 / 고속충전 / USB-PD / 57Wh / 운영체제 미포함 / 두께: 19.9mm / 1.63kg / 일반유통상품 / 용도: 사무/인강용 / 색상 : 그레이', '590000'], ['LG전자 2020 울트라PC 15UD50N-GX50K', '39.6cm(15.6인치) / 인텔 / 코어i5-10세대 / 코멧레이크 / i5-10210U 1.6GHz(4.2GHz) / 쿼드코어 / 1920x1080(FHD) / 광시야각(IPS) / 슬림형 베젤 / DDR4 / 8GB / M.2(NVMe) / 256GB / UHD Graphics / 1Gbps 유선랜 / 802.11ax 무선 / 블루투스 / HDMI / 웹캠(HD) / USB 3.1 Type-C / USB 3.0 / MicroSD카드 / 숫자 키패드 / 35Wh / 운영체제 미포함 / 두께: 19.9mm / 1.75kg / 일반유통상품 / 용도: 사무/인강용 / 색상 : 화이트', '816000'], ['LG전자 2020 그램15 15ZD90N-VX50K 16GB램', '39.6cm(15.6인치) / 인텔 / 코어i5-10세대 / 아이스레이크 / i5-1035G7 1.2GHz(3.7GHz) / 쿼드코어 / 1920x1080(FHD) / 광시야각(IPS) / 슬림형 베젤 / DDR4 / 16GB / M.2(NVMe) / 256GB / Iris Plus Graphics / 802.11ax 무선랜 / 블루투스 / HDMI / 웹캠(HD) / 썬더볼트: 1개 / USB 3.1 Type-C / USB 3.1 / UFS / MicroSD카드 / 숫자 키패드 / 키보드 라이트 / MIL-STD / 지문 인식 / USB-PD / 80Wh / 운영체제 미포함 / 두께: 16.8mm / 1.12kg / 구성변경상품 / 용도: 사무/인강용, 휴대용 / 색상 : 화이트', '1360000'], ['LG전자 2020 그램17 17Z90N-VA5IK', '43.1cm(17인치) / 인텔 / 코어i5-10세대 / 아이스레이크 / i5-1035G7 1.2GHz(3.7GHz) / 쿼드코어 / 2560x1600(WQXGA) / 광시야각(IPS) / 슬림형 베젤 / DDR4 / 16GB / M.2(NVMe) / 256GB / Iris Plus Graphics / 802.11ax 무선랜 / 블루투스 / HDMI / 웹캠(HD) / 썬더볼트: 1개 / USB 3.1 Type-C / USB 3.1 / UFS / MicroSD카드 / 숫자 키패드 / 키보드 라이트 / MIL-STD / 지문 인식 / USB-PD / 80Wh / 윈도우10 / 두께: 17.4mm / 1.35kg / 일반유통상품 / 용도: 사무/인강용, 휴대용 / 색상: 화이트', '1568000'], ['ASUS 비보북 S533FA-BQ027', '39.62cm(15.6인치) / 인텔 / 코어i5-10세대 / 코멧레이크 / i5-10210U 1.6GHz(4.2GHz) / 쿼드코어 / 1920x1080(FHD) / 250nit / 광시야각 / 눈부심방지 / 슬림형 베젤 / DDR4 / 8GB / M.2(NVMe) / 512GB / UHD Graphics / 802.11ax 무선 / 블루투스 5.0 / HDMI / 웹캠(HD) / USB Type-C / USB 3.0 / USB 2.0 / MicroSD카드 / 숫자 키패드 / 키보드 라이트 / 지문 인식 / 고속충전 / 50Wh / 운영체제 미포함 / 두께: 16.1mm / 1.8kg / 일반유통상품 / 용도: 사무/인강용 / 색상 : 블랙', '799000'], ['Razer BLADE 15 Base 9Gen G1660Ti Lite', '39.62cm(15.6인치) / 인텔 / 코어i7-9세대 / 커피레이크-R / i7-9750H 2.6GHz(4.5GHz) / 헥사코어 / 1920x1080(FHD) / 144Hz / 광시야각(IPS) / 슬림형 베젤 / DDR4 / 16GB / M.2(NVMe) / 256GB / GTX1660 Ti / VRAM:6GB / 1Gbps 유선랜 / 802.11n/ac 무선 / 블루투스 5.0 / HDMI 2.0 / mini DP / 웹캠(HD) / 썬더볼트: 1개 / USB Type-C / USB 3.0 / 키보드 라이트 / 65Wh / 윈도우10 / 두께: 19.9mm / 2.1kg / 일반유통상품 / 용도: 게임용, 그래픽작업용 / 색상: 블랙', '1850000'], ['레노버 아이디어패드 게이밍 3i 15IMH I5 LEGEND', '39.6cm(15.6인치) / 인텔 / 코어i5-10세대 / 코멧레이크 / i5-10300H 2.5GHz(4.5GHz) / 쿼드코어 / 1920x1080(FHD) / 120Hz / 광시야각(IPS) / 눈부심방지 / 슬림형 베젤 / DDR4 / 8GB / M.2(NVMe) / 256GB / UHD Graphics / GTX1650 / VRAM:4GB / 유선랜 / 802.11ax 무선 / 블루투스 5.0 / HDMI 2.0 / 웹캠(HD) / USB Type-C / USB 3.0 / 숫자 키패드 / 키보드 라이트 / 웹캠OFF 지원 / 45Wh / 운영체제 미포함 / 두께: 24.9mm / 2.2kg / 일반유통상품 / 용도: 게임용, 그래픽작업용 / 색상 : 블랙', '839000'], ['ASUS 비보북 S15 S533FL-BQ503', '39.62cm(15.6인치) / 인텔 / 코어i5-10세대 / 코멧레이크 / i5-10210U 1.6GHz(4.2GHz) / 쿼드코어 / 1920x1080(FHD) / 250nit / 광시야각 / 눈부심방지 / 슬림형 베젤 / DDR4 / 8GB / M.2(NVMe) / 512GB / UHD Graphics / 지포스 MX250 / VRAM:2GB / 802.11n/ac 무선 / 블루투스 4.1 / HDMI / 웹캠(HD) / USB Type-C / USB 3.0 / USB 2.0 / MicroSD카드 / 숫자 키패드 / 키보드 라이트 / 지문 인식 / 고속충전 / 50Wh / 운영체제 미포함 / 두께: 16.1mm / 1.8kg / 일반유통상품 / 용도: 그래픽작업용, 사무/인강용 / 색상 : 블랙', '755000'], ['ASUS TUF Gaming A15 FA506II-HN137', '39.62cm(15.6인치) / AMD / 라이젠7-3세대 / 르누아르 / 4800H 2.9GHz(4.2GHz) / 옥타코어 / 1920x1080(FHD) / 250nit / 144Hz / 광시야각 / 눈부심방지 / DDR4 / 8GB / M.2(NVMe) / 512GB / GTX1650 Ti / VRAM:4GB / 1Gbps 유선랜 / 802.11n/ac 무선 / 블루투스 5.0 / HDMI 2.0 / 웹캠(HD) / USB 3.1 Type-C / USB 3.0 / USB 2.0 / 숫자 키패드 / RGB 라이트 / MIL-STD / 48Wh / 운영체제 미포함 / 두께: 24.9mm / 2.3kg / 일반유통상품 / 용도: 게임용, 그래픽작업용 / 색상 : 그레이', '1040000'], ['LG전자 2020 울트라PC 15UD50N-GX30K', '39.6cm(15.6인치) / 인텔 / 코어i3-10세대 / 코멧레이크 / i3-10110U 2.1GHz(4.1GHz) / 듀얼코어 / 1920x1080(FHD) / 광시야각(IPS) / 슬림형 베젤 / DDR4 / 8GB / SSD / 128GB / UHD Graphics / 1Gbps 유선랜 / 802.11ax 무선 / 블루투스 / HDMI / 웹캠(HD) / USB 3.1 Type-C / USB 3.0 / MicroSD카드 / 숫자 키패드 / 35Wh / 운영체제 미포함 / 두께: 19.9mm / 1.75kg / 일반유통상품 / 용도: 사무/인강용 / 색상 : 화이트', '677000'], ['레노버 아이디어패드 Slim3-15ARE R5', '39.6cm(15.6인치) / AMD / 라이젠5-3세대 / 르누아르 / 4500U 2.3GHz(4.0GHz) / 헥사코어 / 1920x1080(FHD) / 250nit / 광시야각(IPS) / 눈부심방지 / DDR4 / 4GB / M.2(NVMe) / 256GB / Radeon Graphics / 802.11n/ac 무선 / 블루투스 5.0 / HDMI / 웹캠(HD) / USB 3.0 / USB 2.0 / SD카드 / 숫자 키패드 / TPM / 웹캠OFF 지원 / 35Wh / 운영체제 미포함 / 두께: 19.9mm / 1.65kg / 일반유통상품 / 용도: 사무/인강용 / 색상 : 그레이, 블루', '490000'], ['ASUS TUF Gaming A17 FA706IU-H7179', '43.94cm(17.3인치) / AMD / 라이젠9-3세대 / 르누아르 / 4900H 3.3GHz(4.4GHz) / 옥타코어 / 1920x1080(FHD) / 120Hz / 눈부심방지 / DDR4 / 16GB / M.2(NVMe) / 1TB / GTX1660 Ti / VRAM:6GB / 1Gbps 유선랜 / 802.11n/ac 무선 / 블루투스 5.0 / HDMI 2.0 / 웹캠(HD) / USB 3.1 Type-C / USB 3.0 / USB 2.0 / 숫자 키패드 / RGB 라이트 / MIL-STD / 90Wh / 운영체제 미포함 / 두께: 25.2mm / 2.6kg / 일반유통상품 / 용도: 게임용, 그래픽작업용 / 색상 : 그레이', '1590000']]\n"
     ]
    }
   ],
   "source": [
    "prod_data = []\n",
    "\n",
    "for prod_item in prod_items:\n",
    "    try: #상품명 가져오기\n",
    "        title = prod_item.select('p.prod_name')[0].text.strip()\n",
    "    except:\n",
    "        title = ''\n",
    "    \n",
    "    try: #상품 스펙 가져오기\n",
    "        spec_list = prod_item.select('div.spec_list')[0].text.strip()\n",
    "    except:\n",
    "        spec_list = ''\n",
    "        \n",
    "    try: #상품 가격 가져오기\n",
    "        price = prod_item.select('p.price_sect > a > strong')[0].text.strip().replace(',', '')\n",
    "    except:\n",
    "        price = 0\n",
    "        \n",
    "    prod_data.append([title, spec_list, price])\n",
    "    \n",
    "print(len(prod_data))\n",
    "print(prod_data)"
   ]
  },
  {
   "cell_type": "markdown",
   "metadata": {},
   "source": [
    "위 코드를 활용하여 상품 정보 태그에서 원하는 정보를 추출하는 함수 작성"
   ]
  },
  {
   "cell_type": "code",
   "execution_count": 43,
   "metadata": {},
   "outputs": [],
   "source": [
    "def get_prod_items(prod_item):\n",
    "    prod_data = []\n",
    "\n",
    "    for prod_item in prod_items:\n",
    "        try: #상품명 가져오기\n",
    "            title = prod_item.select('p.prod_name')[0].text.strip()\n",
    "        except:\n",
    "            title = ''\n",
    "    \n",
    "        try: #상품 스펙 가져오기\n",
    "            spec_list = prod_item.select('div.spec_list')[0].text.strip()\n",
    "        except:\n",
    "            spec_list = ''\n",
    "        \n",
    "        try: #상품 가격 가져오기\n",
    "            price = prod_item.select('p.price_sect > a > strong')[0].text.strip().replace(',', '')\n",
    "        except:\n",
    "            price = 0\n",
    "        \n",
    "        prod_data.append([title, spec_list, price])\n",
    "        \n",
    "    return prod_data"
   ]
  },
  {
   "cell_type": "code",
   "execution_count": 46,
   "metadata": {},
   "outputs": [
    {
     "name": "stdout",
     "output_type": "stream",
     "text": [
      "30\n"
     ]
    }
   ],
   "source": [
    "prod_items = soup.select('div.main_prodlist > ul.product_list > li.prod_item')\n",
    "prod_data = get_prod_items(prod_items)\n",
    "print(len(prod_data))"
   ]
  },
  {
   "cell_type": "code",
   "execution_count": 47,
   "metadata": {},
   "outputs": [],
   "source": [
    "#위 함수로 첫페이지 상품들을 수집할 수 있음."
   ]
  },
  {
   "cell_type": "markdown",
   "metadata": {},
   "source": [
    "# 여러 페이지 수집하기"
   ]
  },
  {
   "cell_type": "markdown",
   "metadata": {},
   "source": [
    "위 함수는 첫페이지의 상품정보들을 수집함. 여러 페이지에 걸쳐 크롤링하기."
   ]
  },
  {
   "cell_type": "code",
   "execution_count": 58,
   "metadata": {},
   "outputs": [
    {
     "data": {
      "text/plain": [
       "'2페이지=http://search.danawa.com/dsearch.php?query=%EB%85%B8%ED%8A%B8%EB%B6%81&originalQuery=%EB%85%B8%ED%8A%B8%EB%B6%81&volumeType=allvs&page=2&limit=30&sort=saveDESC&list=list&boost=true&addDelivery=N&tab=goods&tab=goods'"
      ]
     },
     "execution_count": 58,
     "metadata": {},
     "output_type": "execute_result"
    }
   ],
   "source": [
    "#다나와 검색페이지 url 구조 확인하기\n",
    "\"2페이지=http://search.danawa.com/dsearch.php?query=%EB%85%B8%ED%8A%B8%EB%B6%81&originalQuery=%EB%85%B8%ED%8A%B8%EB%B6%81&volumeType=allvs&page=2&limit=30&sort=saveDESC&list=list&boost=true&addDelivery=N&tab=goods&tab=goods\""
   ]
  },
  {
   "cell_type": "code",
   "execution_count": 59,
   "metadata": {},
   "outputs": [
    {
     "data": {
      "text/plain": [
       "'3페이지=http://search.danawa.com/dsearch.php?query=%EB%85%B8%ED%8A%B8%EB%B6%81&originalQuery=%EB%85%B8%ED%8A%B8%EB%B6%81&volumeType=allvs&page=3&limit=30&sort=saveDESC&list=list&boost=true&addDelivery=N&tab=goods&tab=goods'"
      ]
     },
     "execution_count": 59,
     "metadata": {},
     "output_type": "execute_result"
    }
   ],
   "source": [
    "\"3페이지=http://search.danawa.com/dsearch.php?query=%EB%85%B8%ED%8A%B8%EB%B6%81&originalQuery=%EB%85%B8%ED%8A%B8%EB%B6%81&volumeType=allvs&page=3&limit=30&sort=saveDESC&list=list&boost=true&addDelivery=N&tab=goods&tab=goods\""
   ]
  },
  {
   "cell_type": "code",
   "execution_count": 73,
   "metadata": {},
   "outputs": [
    {
     "name": "stdout",
     "output_type": "stream",
     "text": [
      "http://search.danawa.com/dsearch.php?query=노트북81&originalQuery=노트북&volumeType=allvs&page=2&limit=30&sort=saveDESC&list=list&boost=true&addDelivery=N&tab=goods&tab=goods\n"
     ]
    }
   ],
   "source": [
    "#2페이지를 찾을 수 있나 확인해보기.\n",
    "def get_search_page_url(page):\n",
    "    return 'http://search.danawa.com/dsearch.php?query=노트북81&originalQuery=노트북&volumeType=allvs&page={}&limit=30&sort=saveDESC&list=list&boost=true&addDelivery=N&tab=goods&tab=goods'.format(page)\n",
    "\n",
    "page = 2\n",
    "url = get_search_page_url(page)\n",
    "print(url)\n",
    "#완료."
   ]
  },
  {
   "cell_type": "markdown",
   "metadata": {},
   "source": [
    "크롤링 진행표시줄 만들기 : tqdm 모듈 예시"
   ]
  },
  {
   "cell_type": "code",
   "execution_count": 70,
   "metadata": {},
   "outputs": [
    {
     "name": "stderr",
     "output_type": "stream",
     "text": [
      "100%|██████████████████████████████████████████████████████████████████████████████████| 10/10 [00:10<00:00,  1.00s/it]\n"
     ]
    }
   ],
   "source": [
    "import time\n",
    "from tqdm import tqdm\n",
    "\n",
    "total_page = 10\n",
    "for page in tqdm(range(1, total_page +1)):\n",
    "    time.sleep(1)"
   ]
  },
  {
   "cell_type": "markdown",
   "metadata": {},
   "source": [
    "여러 페이지 크롤링하기 코드 정리"
   ]
  },
  {
   "cell_type": "code",
   "execution_count": 79,
   "metadata": {},
   "outputs": [
    {
     "name": "stderr",
     "output_type": "stream",
     "text": [
      "\n",
      "  0%|                                                                                           | 0/10 [00:00<?, ?it/s]\u001b[A\n",
      " 10%|████████▎                                                                          | 1/10 [00:15<02:17, 15.33s/it]\u001b[A\n",
      " 20%|████████████████▌                                                                  | 2/10 [00:25<01:51, 13.89s/it]\u001b[A\n",
      " 30%|████████████████████████▉                                                          | 3/10 [00:35<01:28, 12.65s/it]\u001b[A\n",
      " 40%|█████████████████████████████████▏                                                 | 4/10 [00:45<01:10, 11.77s/it]\u001b[A\n",
      " 50%|█████████████████████████████████████████▌                                         | 5/10 [00:54<00:54, 10.96s/it]\u001b[A\n",
      " 60%|█████████████████████████████████████████████████▊                                 | 6/10 [01:04<00:42, 10.66s/it]\u001b[A\n",
      " 70%|██████████████████████████████████████████████████████████                         | 7/10 [01:14<00:31, 10.39s/it]\u001b[A\n",
      " 80%|██████████████████████████████████████████████████████████████████▍                | 8/10 [01:22<00:19,  9.91s/it]\u001b[A\n",
      " 90%|██████████████████████████████████████████████████████████████████████████▋        | 9/10 [01:32<00:09,  9.89s/it]\u001b[A\n",
      "100%|██████████████████████████████████████████████████████████████████████████████████| 10/10 [01:41<00:00, 10.18s/it]\u001b[A\n"
     ]
    }
   ],
   "source": [
    "from selenium import webdriver\n",
    "import time\n",
    "from bs4 import BeautifulSoup\n",
    "from tqdm import tqdm\n",
    "def get_search_page_url(page):\n",
    "    return 'http://search.danawa.com/dsearch.php?query=노트북&originalQuery=노트북&volumeType=allvs&page={}&limit=30&sort=saveDESC&list=list&boost=true&addDelivery=N&tab=goods&tab=goods'.format(page)\n",
    "\n",
    "browser = webdriver.Chrome(\"C:\\\\Users\\\\KIM EUNKI\\\\anaconda3\\\\chromedriver.exe\")\n",
    "\n",
    "total_page = 10\n",
    "prod_data_total = []\n",
    "\n",
    "# 진행 정도 표시하기\n",
    "for page in tqdm(range(1, total_page+1)):\n",
    "    url = get_search_page_url(page)\n",
    "    browser.get(url)\n",
    "    time.sleep(5)\n",
    "    \n",
    "# 현재 페이지 HTML 정보 가져오기\n",
    "    html = browser.page_source\n",
    "    soup = BeautifulSoup(html, 'html.parser')\n",
    "\n",
    "# 상품 정보 크롤링\n",
    "    prod_items = soup.select('div.main_prodlist > ul.product_list > li.prod_item')\n",
    "    prod_item_list = get_prod_items(prod_items)\n",
    "    prod_data_total = prod_data_total + prod_item_list # 추출한 데이터 저장하기"
   ]
  },
  {
   "cell_type": "markdown",
   "metadata": {},
   "source": [
    "크롤링한 데이터 저장하기"
   ]
  },
  {
   "cell_type": "code",
   "execution_count": 80,
   "metadata": {},
   "outputs": [],
   "source": [
    "import pandas as pd\n",
    "data = pd.DataFrame(prod_data_total)\n",
    "data.columns = ['상품명', '스펙', '가격']\n",
    "data.to_excel(\"C:\\\\Users\\\\KIM EUNKI\\\\Google 드라이브\\\\GitHub\\\\Practice\\\\Danawa_Crawling\\\\Danawa_notebook.xlsx\")"
   ]
  },
  {
   "cell_type": "code",
   "execution_count": 81,
   "metadata": {},
   "outputs": [
    {
     "data": {
      "text/html": [
       "<div>\n",
       "<style scoped>\n",
       "    .dataframe tbody tr th:only-of-type {\n",
       "        vertical-align: middle;\n",
       "    }\n",
       "\n",
       "    .dataframe tbody tr th {\n",
       "        vertical-align: top;\n",
       "    }\n",
       "\n",
       "    .dataframe thead th {\n",
       "        text-align: right;\n",
       "    }\n",
       "</style>\n",
       "<table border=\"1\" class=\"dataframe\">\n",
       "  <thead>\n",
       "    <tr style=\"text-align: right;\">\n",
       "      <th></th>\n",
       "      <th>상품명</th>\n",
       "      <th>스펙</th>\n",
       "      <th>가격</th>\n",
       "    </tr>\n",
       "  </thead>\n",
       "  <tbody>\n",
       "    <tr>\n",
       "      <th>0</th>\n",
       "      <td>MSI GF시리즈 GF65 Thin 9SEXR</td>\n",
       "      <td>39.62cm(15.6인치) / 인텔 / 코어i7-9세대 / 커피레이크-R / i7...</td>\n",
       "      <td>1345000</td>\n",
       "    </tr>\n",
       "    <tr>\n",
       "      <th>1</th>\n",
       "      <td>레노버 아이디어패드 Slim 5-15IIL Major i5</td>\n",
       "      <td>39.6cm(15.6인치) / 인텔 / 코어i5-10세대 / 아이스레이크 / i5-...</td>\n",
       "      <td>799000</td>\n",
       "    </tr>\n",
       "    <tr>\n",
       "      <th>2</th>\n",
       "      <td>LG전자 2020 울트라PC 15U50N-GR56K</td>\n",
       "      <td>39.6cm(15.6인치) / 인텔 / 코어i5-10세대 / 코멧레이크 / i5-1...</td>\n",
       "      <td>931000</td>\n",
       "    </tr>\n",
       "    <tr>\n",
       "      <th>3</th>\n",
       "      <td>APPLE 2019 맥북프로16 MVVK2KH/A</td>\n",
       "      <td>40.8cm(16인치) / 인텔 / 코어i9-9세대 / 커피레이크-R / i9-98...</td>\n",
       "      <td>2967000</td>\n",
       "    </tr>\n",
       "    <tr>\n",
       "      <th>4</th>\n",
       "      <td>레노버 아이디어패드 L340-15IRH i5 LEGEND</td>\n",
       "      <td>39.62cm(15.6인치) / 인텔 / 코어i5-9세대 / 커피레이크-R / i5...</td>\n",
       "      <td>675000</td>\n",
       "    </tr>\n",
       "  </tbody>\n",
       "</table>\n",
       "</div>"
      ],
      "text/plain": [
       "                                상품명  \\\n",
       "0         MSI GF시리즈 GF65 Thin 9SEXR   \n",
       "1  레노버 아이디어패드 Slim 5-15IIL Major i5   \n",
       "2      LG전자 2020 울트라PC 15U50N-GR56K   \n",
       "3       APPLE 2019 맥북프로16 MVVK2KH/A   \n",
       "4   레노버 아이디어패드 L340-15IRH i5 LEGEND   \n",
       "\n",
       "                                                  스펙       가격  \n",
       "0  39.62cm(15.6인치) / 인텔 / 코어i7-9세대 / 커피레이크-R / i7...  1345000  \n",
       "1  39.6cm(15.6인치) / 인텔 / 코어i5-10세대 / 아이스레이크 / i5-...   799000  \n",
       "2  39.6cm(15.6인치) / 인텔 / 코어i5-10세대 / 코멧레이크 / i5-1...   931000  \n",
       "3  40.8cm(16인치) / 인텔 / 코어i9-9세대 / 커피레이크-R / i9-98...  2967000  \n",
       "4  39.62cm(15.6인치) / 인텔 / 코어i5-9세대 / 커피레이크-R / i5...   675000  "
      ]
     },
     "execution_count": 81,
     "metadata": {},
     "output_type": "execute_result"
    }
   ],
   "source": [
    "data.head()"
   ]
  },
  {
   "cell_type": "code",
   "execution_count": null,
   "metadata": {},
   "outputs": [],
   "source": []
  }
 ],
 "metadata": {
  "kernelspec": {
   "display_name": "Python 3",
   "language": "python",
   "name": "python3"
  },
  "language_info": {
   "codemirror_mode": {
    "name": "ipython",
    "version": 3
   },
   "file_extension": ".py",
   "mimetype": "text/x-python",
   "name": "python",
   "nbconvert_exporter": "python",
   "pygments_lexer": "ipython3",
   "version": "3.7.6"
  }
 },
 "nbformat": 4,
 "nbformat_minor": 4
}
